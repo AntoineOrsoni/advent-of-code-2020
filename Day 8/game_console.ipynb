{
 "metadata": {
  "language_info": {
   "codemirror_mode": {
    "name": "ipython",
    "version": 3
   },
   "file_extension": ".py",
   "mimetype": "text/x-python",
   "name": "python",
   "nbconvert_exporter": "python",
   "pygments_lexer": "ipython3",
   "version": "3.7.9-final"
  },
  "orig_nbformat": 2,
  "kernelspec": {
   "name": "python3",
   "display_name": "Python 3"
  }
 },
 "nbformat": 4,
 "nbformat_minor": 2,
 "cells": [
  {
   "cell_type": "code",
   "execution_count": 78,
   "metadata": {},
   "outputs": [],
   "source": [
    "with open('input', 'r') as file:\n",
    "    input = file.read().split('\\n')"
   ]
  },
  {
   "cell_type": "code",
   "execution_count": 63,
   "metadata": {},
   "outputs": [],
   "source": [
    "def get_operation_argument(string):\n",
    "    operation = string[:3]\n",
    "    argument = int(string.split(' ')[1])\n",
    "\n",
    "    return(operation, argument)"
   ]
  },
  {
   "cell_type": "code",
   "execution_count": 195,
   "metadata": {},
   "outputs": [],
   "source": [
    "\n",
    "def get_next(index, list):\n",
    "\n",
    "    #print(f'requesting index: {index +1}')\n",
    "\n",
    "    operation, argument = get_operation_argument(list[index])\n",
    "\n",
    "    if operation == 'jmp': \n",
    "        #print(f'jmp = {argument}')\n",
    "        next_index = index + argument\n",
    "\n",
    "    else: next_index = index + 1\n",
    "\n",
    "    return next_index"
   ]
  },
  {
   "cell_type": "code",
   "execution_count": 198,
   "metadata": {},
   "outputs": [],
   "source": [
    "\n",
    "def get_list_before_loop(list):\n",
    "    already_seen = False\n",
    "    list_already_seen = [0]\n",
    "\n",
    "    while already_seen == False:\n",
    "\n",
    "        try:\n",
    "            # If the next jump is already in the list, I'm looping\n",
    "            if get_next(list_already_seen[-1:][0], list) in list_already_seen:\n",
    "                already_seen = True\n",
    "            # Else, let's get the new element\n",
    "            else: \n",
    "                list_already_seen.append(get_next(list_already_seen[-1:][0], list))\n",
    "                #print(list_already_seen)\n",
    "\n",
    "        except IndexError:\n",
    "            return (list_already_seen, already_seen)\n",
    "\n",
    "    return (list_already_seen, already_seen)\n"
   ]
  },
  {
   "cell_type": "code",
   "execution_count": 288,
   "metadata": {},
   "outputs": [],
   "source": [
    "def get_acc(steps, list):\n",
    "\n",
    "    acc = 0\n",
    "\n",
    "    for step in steps:\n",
    "        #print(index)\n",
    "\n",
    "        try:\n",
    "            operation, argument = get_operation_argument(list[step])\n",
    "        # Program finished without loop\n",
    "        except IndexError:\n",
    "            return acc\n",
    "\n",
    "        if operation == 'acc': \n",
    "            acc += argument\n",
    "\n",
    "    return acc"
   ]
  },
  {
   "source": [
    "# Part 1"
   ],
   "cell_type": "markdown",
   "metadata": {}
  },
  {
   "cell_type": "code",
   "execution_count": 289,
   "metadata": {},
   "outputs": [
    {
     "output_type": "stream",
     "name": "stdout",
     "text": [
      "1420\nMy program ended before a loop\n"
     ]
    }
   ],
   "source": [
    "with open('input', 'r') as file:\n",
    "    input = file.read().split('\\n')\n",
    "\n",
    "final_list, loop = get_list_before_loop(input)\n",
    "print(get_acc(final_list, input))\n",
    "if loop: print('My program ended before a loop')\n",
    "else: print('My program ended normally')\n"
   ]
  },
  {
   "source": [
    "# Part 2"
   ],
   "cell_type": "markdown",
   "metadata": {}
  },
  {
   "cell_type": "code",
   "execution_count": 144,
   "metadata": {},
   "outputs": [],
   "source": [
    "# Returns a list with index of each jump\n",
    "def get_all_jmp():\n",
    "\n",
    "    list_index_jmp = []\n",
    "\n",
    "    for index, value in enumerate(input):\n",
    "        if get_operation_argument(value)[0] == 'jmp': list_index_jmp.append(index)\n",
    "\n",
    "    return list_index_jmp\n"
   ]
  },
  {
   "cell_type": "code",
   "execution_count": 148,
   "metadata": {},
   "outputs": [
    {
     "output_type": "stream",
     "name": "stdout",
     "text": [
      "[2, 4, 7]\n"
     ]
    }
   ],
   "source": [
    "with open('input', 'r') as file:\n",
    "    input = file.read().split('\\n')\n",
    "\n",
    "print(get_all_jmp())"
   ]
  },
  {
   "cell_type": "code",
   "execution_count": 205,
   "metadata": {},
   "outputs": [],
   "source": [
    "# if operation is 'jmp' switch to 'nop'\n",
    "# if operation is 'nop' switch to 'jmp'\n",
    "def switch_jmp_nop(index, list):\n",
    "    if 'jmp' in list[index]:\n",
    "        list[index] = list[index].replace('jmp', 'nop')\n",
    "    elif 'nop' in list[index]:\n",
    "        list[index] = list[index].replace('nop', 'jmp')\n",
    "\n",
    "def get_first_jmp(start_index, list):\n",
    "    for index, value in enumerate(list[start_index:]):\n",
    "        if 'jmp' in value: \n",
    "            return index\n"
   ]
  },
  {
   "cell_type": "code",
   "execution_count": 283,
   "metadata": {},
   "outputs": [],
   "source": [
    "with open('input', 'r') as file:\n",
    "    input = file.read().split('\\n')\n",
    "\n",
    "original_input = input"
   ]
  },
  {
   "cell_type": "code",
   "execution_count": 284,
   "metadata": {},
   "outputs": [
    {
     "output_type": "stream",
     "name": "stdout",
     "text": [
      "List without end on loop\n"
     ]
    }
   ],
   "source": [
    "with open('input', 'r') as file:\n",
    "    input = file.read().split('\\n')\n",
    "\n",
    "counter = 0\n",
    "\n",
    "#print('First list')\n",
    "#print(input)\n",
    "\n",
    "new_jmp = 0\n",
    "end_on_loop = True\n",
    "list_all_jmp = get_all_jmp()\n",
    "list_without_loop = []\n",
    "\n",
    "# Do I have a loop on the first pass?\n",
    "if get_list_before_loop(input)[1] == True:\n",
    "\n",
    "    # Switch the first jmp\n",
    "    jmp = get_first_jmp(0, input)\n",
    "    switch_jmp_nop(jmp, input)\n",
    "\n",
    "    #print(input)\n",
    "\n",
    "    last_jmp_changed = jmp\n",
    "    #print(last_jmp_changed)\n",
    "\n",
    "    while end_on_loop == True:\n",
    "\n",
    "        counter += 1\n",
    "        #print(f\"counter = {counter}\")\n",
    "        # If I ended on a loop\n",
    "        if get_list_before_loop(input)[1] == True: \n",
    "\n",
    "            #print(f'{input} -- before new jump')\n",
    "            new_jmp += get_first_jmp(last_jmp_changed, input)\n",
    "            #print(f'new jump = {new_jmp}')\n",
    "            #print(input)\n",
    "            switch_jmp_nop(new_jmp, input)\n",
    "            #print(input)\n",
    "            switch_jmp_nop(last_jmp_changed, input)\n",
    "            #print(input)\n",
    "            last_jmp_changed = new_jmp\n",
    "            #print(last_jmp_changed)\n",
    "            #end_on_loop = False\n",
    "        \n",
    "        else: \n",
    "            # With this nop <> jmp change, program didn't finish on a loop\n",
    "            print('List without end on loop')\n",
    "            #print(input)\n",
    "            list_without_loop = input\n",
    "            #print(last_jmp_changed)\n",
    "            end_on_loop == False\n",
    "            break\n",
    "\n"
   ]
  },
  {
   "cell_type": "code",
   "execution_count": 291,
   "metadata": {},
   "outputs": [
    {
     "output_type": "execute_result",
     "data": {
      "text/plain": [
       "1245"
      ]
     },
     "metadata": {},
     "execution_count": 291
    }
   ],
   "source": [
    "steps = get_list_before_loop(list_without_loop)[0]\n",
    "get_acc(steps, list_without_loop)"
   ]
  }
 ]
}