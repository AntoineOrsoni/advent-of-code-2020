{
 "metadata": {
  "language_info": {
   "codemirror_mode": {
    "name": "ipython",
    "version": 3
   },
   "file_extension": ".py",
   "mimetype": "text/x-python",
   "name": "python",
   "nbconvert_exporter": "python",
   "pygments_lexer": "ipython3",
   "version": "3.7.9-final"
  },
  "orig_nbformat": 2,
  "kernelspec": {
   "name": "python3",
   "display_name": "Python 3.7.9 64-bit ('venv')",
   "metadata": {
    "interpreter": {
     "hash": "ceff438992558ccbcda3adecf8667709bf27dfb0c7b1db39724559836926d328"
    }
   }
  }
 },
 "nbformat": 4,
 "nbformat_minor": 2,
 "cells": [
  {
   "cell_type": "code",
   "execution_count": 1,
   "metadata": {},
   "outputs": [],
   "source": [
    "with open('input', 'r') as file:\n",
    "    input = file.read().split('\\n')\n",
    "    earliest_time = int(input[0])\n",
    "    bus_id_list_all = input[1].split(',')\n",
    "\n",
    "bus_id_list_int = []\n",
    "\n",
    "for value in bus_id_list_all:\n",
    "    if value.isnumeric(): bus_id_list_int.append(int(value))"
   ]
  },
  {
   "cell_type": "code",
   "execution_count": 2,
   "metadata": {},
   "outputs": [
    {
     "output_type": "stream",
     "name": "stdout",
     "text": [
      "1000390\n['23', 'x', 'x', 'x', 'x', 'x', 'x', 'x', 'x', 'x', 'x', 'x', 'x', '41', 'x', 'x', 'x', 'x', 'x', 'x', 'x', 'x', 'x', '383', 'x', 'x', 'x', 'x', 'x', 'x', 'x', 'x', 'x', 'x', 'x', 'x', '13', '17', 'x', 'x', 'x', 'x', '19', 'x', 'x', 'x', 'x', 'x', 'x', 'x', 'x', 'x', '29', 'x', '503', 'x', 'x', 'x', 'x', 'x', 'x', 'x', 'x', 'x', 'x', 'x', 'x', 'x', 'x', 'x', 'x', 'x', 'x', 'x', 'x', 'x', 'x', 'x', 'x', 'x', 'x', 'x', 'x', 'x', 'x', 'x', 'x', 'x', 'x', 'x', 'x', '37']\n[23, 41, 383, 13, 17, 19, 29, 503, 37]\n"
     ]
    }
   ],
   "source": [
    "print(earliest_time)\n",
    "print(bus_id_list_all)\n",
    "print(bus_id_list_int)"
   ]
  },
  {
   "source": [
    "## Part 1"
   ],
   "cell_type": "markdown",
   "metadata": {}
  },
  {
   "cell_type": "code",
   "execution_count": 3,
   "metadata": {},
   "outputs": [],
   "source": [
    "def get_first_bus(earliest_time, bus_id_list_int):\n",
    "\n",
    "    stop = False\n",
    "\n",
    "    for i in range(earliest_time, earliest_time + min(bus_id_list_int)):\n",
    "        # print('')\n",
    "        # print(f'checking time {i}')\n",
    "        for bus_id in bus_id_list_int:\n",
    "            # print(f'checking bus_id = {bus_id}')\n",
    "            if i % bus_id == 0: \n",
    "                first_departure_bus = bus_id\n",
    "                first_departure_time = i\n",
    "                stop = True\n",
    "                break\n",
    "        if stop: break\n",
    "\n",
    "    return first_departure_bus, first_departure_time"
   ]
  },
  {
   "cell_type": "code",
   "execution_count": 4,
   "metadata": {},
   "outputs": [
    {
     "output_type": "stream",
     "name": "stdout",
     "text": [
      "result for part 1\n2298\n"
     ]
    }
   ],
   "source": [
    "first_departure_bus, first_departure_time = get_first_bus(earliest_time, bus_id_list_int)\n",
    "\n",
    "print('result for part 1')\n",
    "print((first_departure_time - earliest_time) * first_departure_bus)"
   ]
  },
  {
   "source": [
    "## Part 2"
   ],
   "cell_type": "markdown",
   "metadata": {}
  },
  {
   "cell_type": "code",
   "execution_count": 62,
   "metadata": {},
   "outputs": [],
   "source": [
    "def get_earliest_timestamp(bus_list):\n",
    "\n",
    "    time = 1\n",
    "    step = 1\n",
    "\n",
    "    for bus in bus_list:\n",
    "\n",
    "        print('')\n",
    "        print(bus)\n",
    "\n",
    "        while (time + bus['offset']) % bus['bus_id'] != 0:\n",
    "            time += step\n",
    "            print(f'time = {time}')\n",
    "        \n",
    "        print(f'for time = {time} --> ({time} + {bus[\"offset\"]}) % {bus[\"bus_id\"]} == 0')\n",
    "\n",
    "        step *= bus['bus_id']\n",
    "        #step = time\n",
    "        print(f'now, step = {step}')\n",
    "\n",
    "    return time"
   ]
  },
  {
   "cell_type": "code",
   "execution_count": 71,
   "metadata": {},
   "outputs": [
    {
     "output_type": "stream",
     "name": "stdout",
     "text": [
      "\n{'bus_id': 7, 'offset': 0}\ntime = 2\ntime = 3\ntime = 4\ntime = 5\ntime = 6\ntime = 7\nfor time = 7 --> (7 + 0) % 7 == 0\nnow, step = 7\n\n{'bus_id': 5, 'offset': 4}\ntime = 14\ntime = 21\nfor time = 21 --> (21 + 4) % 5 == 0\nnow, step = 35\n\n{'bus_id': 11, 'offset': 5}\ntime = 56\ntime = 91\ntime = 126\ntime = 161\ntime = 196\ntime = 231\ntime = 266\ntime = 301\ntime = 336\nfor time = 336 --> (336 + 5) % 11 == 0\nnow, step = 385\n"
     ]
    },
    {
     "output_type": "execute_result",
     "data": {
      "text/plain": [
       "336"
      ]
     },
     "metadata": {},
     "execution_count": 71
    }
   ],
   "source": [
    "with open('input', 'r') as file:\n",
    "    input = file.read().split('\\n')\n",
    "    bus_id_list_all = input[1].split(',')\n",
    "\n",
    "bus_list = []\n",
    "\n",
    "for index, value in enumerate(bus_id_list_all):\n",
    "    if value != 'x':\n",
    "        bus_list.append({'bus_id': int(value), 'offset': index})\n",
    "\n",
    "get_earliest_timestamp(bus_list)"
   ]
  }
 ]
}