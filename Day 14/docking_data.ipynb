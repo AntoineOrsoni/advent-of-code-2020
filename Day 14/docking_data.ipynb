{
 "metadata": {
  "language_info": {
   "codemirror_mode": {
    "name": "ipython",
    "version": 3
   },
   "file_extension": ".py",
   "mimetype": "text/x-python",
   "name": "python",
   "nbconvert_exporter": "python",
   "pygments_lexer": "ipython3",
   "version": "3.7.9-final"
  },
  "orig_nbformat": 2,
  "kernelspec": {
   "name": "python3",
   "display_name": "Python 3",
   "language": "python"
  }
 },
 "nbformat": 4,
 "nbformat_minor": 2,
 "cells": [
  {
   "cell_type": "code",
   "execution_count": 1,
   "metadata": {},
   "outputs": [],
   "source": [
    "def get_mask(line: str) -> str:\n",
    "    return line[7:]\n",
    "\n",
    "def get_binary(value: int) -> str:\n",
    "    return \"{0:b}\".format(value)\n",
    "\n",
    "def get_binary_size(value: int, size: int) -> str:\n",
    "    result = get_binary(value)\n",
    "\n",
    "    while len(result) < size:\n",
    "        result = '0' + result\n",
    "    \n",
    "    return result\n",
    "\n",
    "def get_decimal(value: str) -> int:\n",
    "    return int(str(value), 2)\n",
    "\n",
    "def get_mem_value(line: str) -> tuple:\n",
    "    mem = int(line.split('[')[1].split(']')[0])\n",
    "    value = int(line.split()[2])\n",
    "\n",
    "    # int, int\n",
    "    return mem, value\n",
    "\n",
    "def get_number_x(line: str) -> int:\n",
    "    result = 0\n",
    "    for bit in line:\n",
    "        if bit == 'X': result += 1\n",
    "\n",
    "    return result\n"
   ]
  },
  {
   "source": [
    "## Part 1"
   ],
   "cell_type": "markdown",
   "metadata": {}
  },
  {
   "cell_type": "code",
   "execution_count": 2,
   "metadata": {},
   "outputs": [],
   "source": [
    "def part_1(input: list) -> int:\n",
    "    data = {}\n",
    "    result = 0\n",
    "\n",
    "    for line in input:\n",
    "\n",
    "        # line is a mask\n",
    "        if \"mask\" in line:\n",
    "            mask = get_mask(line)\n",
    "\n",
    "        # line is a mem\n",
    "        elif \"mem\" in line:\n",
    "            mem, value = get_mem_value(line)\n",
    "            value_bin = get_binary(value)\n",
    "\n",
    "            while len(value_bin) < len(mask):\n",
    "                value_bin = '0' + value_bin\n",
    "\n",
    "            for index, bit in enumerate(mask):\n",
    "                if bit == 'X':\n",
    "                    pass\n",
    "                else:\n",
    "                    value_bin = value_bin[:index] + bit + value_bin[index+1:]\n",
    "            # store the decimal value\n",
    "            data[mem] = get_decimal(str(value_bin))\n",
    "\n",
    "    for value in data.values():\n",
    "        result += value\n",
    "\n",
    "    print('result for part 1:')\n",
    "    print(result)"
   ]
  },
  {
   "cell_type": "code",
   "execution_count": 4,
   "metadata": {},
   "outputs": [
    {
     "output_type": "stream",
     "name": "stdout",
     "text": [
      "result for part 1:\n12610010960049\n"
     ]
    }
   ],
   "source": [
    "with open('input', 'r') as file:\n",
    "    input = file.read().split('\\n')\n",
    "\n",
    "part_1(input)"
   ]
  },
  {
   "source": [
    "## Part 2"
   ],
   "cell_type": "markdown",
   "metadata": {}
  },
  {
   "cell_type": "code",
   "execution_count": 5,
   "metadata": {},
   "outputs": [],
   "source": [
    "# Give me a floating value such as: 1XX0XX1 and I will return you a list\n",
    "# with all possible combinations of binaries.\n",
    "def get_list_mem(value: str) -> list:\n",
    "    result = []\n",
    "\n",
    "    len_value = len(value)\n",
    "    number_x = get_number_x(value)\n",
    "\n",
    "    # combo is a list of binaries such as:\n",
    "    #   - each value of combos is the same size as number_x\n",
    "    #   - each sub-char of value of combos will replace a X\n",
    "    # ex: combo = ['00', '10', '11']\n",
    "    # value = 11XX11\n",
    "    # result_binaries = [11-00-11, 11-10-11, 11-11-11]\n",
    "    combos = list(range(0, pow(2, number_x)))\n",
    "\n",
    "    for index, number in enumerate(combos):\n",
    "        combos[index] = get_binary_size(number, number_x)\n",
    "    \n",
    "    for combo in combos[:]:\n",
    "        index_combo = 0\n",
    "        mem = value\n",
    "        for index, bit in enumerate(value):\n",
    "            if bit == 'X': \n",
    "                mem = mem[:index] + combo[index_combo] + mem[index+1:]\n",
    "                index_combo += 1\n",
    "\n",
    "        # Convert the binary in decimal before stocking it\n",
    "        result.append(get_decimal(mem))\n",
    "\n",
    "    # list of int (decimal)\n",
    "    return result\n"
   ]
  },
  {
   "cell_type": "code",
   "execution_count": 6,
   "metadata": {},
   "outputs": [],
   "source": [
    "def part_2(input: list) -> int:\n",
    "    data = {}\n",
    "    result = 0\n",
    "\n",
    "    for line in input:\n",
    "\n",
    "        # line is a mask\n",
    "        if \"mask\" in line:\n",
    "            mask = get_mask(line)\n",
    "\n",
    "        # line is a mem\n",
    "        elif \"mem\" in line:\n",
    "            mem, value = get_mem_value(line)\n",
    "            mem_bin = get_binary(mem)\n",
    "\n",
    "            while len(mem_bin) < len(mask):\n",
    "                mem_bin = '0' + mem_bin\n",
    "\n",
    "            for index, bit in enumerate(mask):\n",
    "                if bit == '0':\n",
    "                    pass\n",
    "                else:\n",
    "                    mem_bin = mem_bin[:index] + bit + mem_bin[index+1:]  \n",
    "\n",
    "            list_mem_decimal = get_list_mem(mem_bin)\n",
    "\n",
    "            for key in list_mem_decimal:\n",
    "                data[key] = value\n",
    "\n",
    "    for value in data.values():\n",
    "        result += value\n",
    "\n",
    "    print('result for part 2:')\n",
    "    print(result)"
   ]
  },
  {
   "cell_type": "code",
   "execution_count": 7,
   "metadata": {},
   "outputs": [
    {
     "output_type": "stream",
     "name": "stdout",
     "text": [
      "result for part 2:\n208\n"
     ]
    }
   ],
   "source": [
    "with open('sample_input', 'r') as file:\n",
    "    input = file.read().split('\\n')\n",
    "\n",
    "part_2(input)"
   ]
  },
  {
   "cell_type": "code",
   "execution_count": 10,
   "metadata": {},
   "outputs": [
    {
     "output_type": "stream",
     "name": "stdout",
     "text": [
      "result for part 2:\n3608464522781\n"
     ]
    }
   ],
   "source": [
    "with open('input', 'r') as file:\n",
    "    input = file.read().split('\\n')\n",
    "\n",
    "part_2(input)"
   ]
  }
 ]
}