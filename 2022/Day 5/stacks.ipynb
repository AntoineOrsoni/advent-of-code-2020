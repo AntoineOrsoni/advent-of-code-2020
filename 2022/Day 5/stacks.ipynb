{
 "cells": [
  {
   "cell_type": "code",
   "execution_count": 1,
   "metadata": {},
   "outputs": [],
   "source": [
    "with open('starting_crates', 'r') as file:\n",
    "    crates_input = file.read().splitlines()"
   ]
  },
  {
   "cell_type": "code",
   "execution_count": 2,
   "metadata": {},
   "outputs": [],
   "source": [
    "with open('input') as file:\n",
    "    instructions = file.read().splitlines()"
   ]
  },
  {
   "cell_type": "code",
   "execution_count": 3,
   "metadata": {},
   "outputs": [],
   "source": [
    "from collections import deque\n",
    "from typing import List, Deque\n",
    "\n",
    "def init_crates() -> List[Deque]:\n",
    "\n",
    "    '''\n",
    "    Return a list of deque based on input, represtenting the list of crates\n",
    "    '''\n",
    "    \n",
    "    crates = []\n",
    "\n",
    "    for i in range(9):\n",
    "        crates.append(deque())\n",
    "\n",
    "    for line in crates_input[:-1]:\n",
    "        for i in range(1, len(line), 4):\n",
    "            if line[i] != ' ': crates[i//4].append(line[i])\n",
    "\n",
    "    return crates"
   ]
  },
  {
   "cell_type": "code",
   "execution_count": 4,
   "metadata": {},
   "outputs": [
    {
     "name": "stdout",
     "output_type": "stream",
     "text": [
      "deque(['G', 'J', 'Z'])\n",
      "deque(['C', 'V', 'F', 'W', 'P', 'R', 'L', 'Q'])\n",
      "deque(['R', 'G', 'L', 'C', 'M', 'P', 'F'])\n",
      "deque(['M', 'H', 'P', 'W', 'B', 'F', 'L'])\n",
      "deque(['Q', 'V', 'S', 'F', 'C', 'G'])\n",
      "deque(['L', 'T', 'Q', 'M', 'Z', 'J', 'H', 'W'])\n",
      "deque(['V', 'B', 'S', 'F', 'H'])\n",
      "deque(['S', 'Z', 'J', 'F'])\n",
      "deque(['T', 'B', 'H', 'F', 'P', 'D', 'C', 'M'])\n"
     ]
    }
   ],
   "source": [
    "crates = init_crates()\n",
    "\n",
    "for line in crates:\n",
    "    print(line)"
   ]
  },
  {
   "cell_type": "code",
   "execution_count": 5,
   "metadata": {},
   "outputs": [],
   "source": [
    "from typing import List, Tuple\n",
    "\n",
    "def compute_instruction(instruction: str) -> Tuple[int]:\n",
    "    '''\n",
    "    Compute an instruction. \n",
    "    Return a tuple of quantity, starting_crate, target_crate.\n",
    "    '''\n",
    "\n",
    "    _, quantity, _, starting_crate, _, target_crate = instruction.split(' ')\n",
    "\n",
    "    return (int(quantity), int(starting_crate) - 1, int(target_crate) - 1)\n"
   ]
  },
  {
   "cell_type": "code",
   "execution_count": 6,
   "metadata": {},
   "outputs": [],
   "source": [
    "for instruction in instructions:\n",
    "    quantity, starting_crate, target_crate  = compute_instruction(instruction)\n",
    "\n",
    "    for _ in range(quantity):\n",
    "        crates[target_crate].appendleft(crates[starting_crate].popleft())"
   ]
  },
  {
   "cell_type": "code",
   "execution_count": 7,
   "metadata": {},
   "outputs": [
    {
     "name": "stdout",
     "output_type": "stream",
     "text": [
      "answer part_1: WSFTMRHPP\n"
     ]
    }
   ],
   "source": [
    "part_1 = ''\n",
    "\n",
    "for crate in crates:\n",
    "    part_1 += crate[0]\n",
    "\n",
    "print('answer part_1:', part_1)"
   ]
  },
  {
   "cell_type": "code",
   "execution_count": 13,
   "metadata": {},
   "outputs": [],
   "source": [
    "crates = init_crates()\n",
    "\n",
    "for instruction in instructions:\n",
    "    quantity, starting_crate, target_crate  = compute_instruction(instruction)\n",
    "\n",
    "    current_stack = deque()\n",
    "    for _ in range(quantity):\n",
    "        current_stack.appendleft(crates[starting_crate].popleft())\n",
    "\n",
    "    crates[target_crate].extendleft(current_stack) "
   ]
  },
  {
   "cell_type": "code",
   "execution_count": 14,
   "metadata": {},
   "outputs": [
    {
     "name": "stdout",
     "output_type": "stream",
     "text": [
      "answer part_2: GSLCMFBRP\n"
     ]
    }
   ],
   "source": [
    "part_2 = ''\n",
    "\n",
    "for crate in crates:\n",
    "    part_2 += crate[0]\n",
    "\n",
    "print('answer part_2:', part_2)"
   ]
  },
  {
   "cell_type": "code",
   "execution_count": null,
   "metadata": {},
   "outputs": [],
   "source": []
  }
 ],
 "metadata": {
  "kernelspec": {
   "display_name": "Python 3.10.4 ('venv': venv)",
   "language": "python",
   "name": "python3"
  },
  "language_info": {
   "codemirror_mode": {
    "name": "ipython",
    "version": 3
   },
   "file_extension": ".py",
   "mimetype": "text/x-python",
   "name": "python",
   "nbconvert_exporter": "python",
   "pygments_lexer": "ipython3",
   "version": "3.10.4"
  },
  "orig_nbformat": 4,
  "vscode": {
   "interpreter": {
    "hash": "977cbb65a0b52724956264297ec2b01bc8571f73e4413189b08099b2a2749b05"
   }
  }
 },
 "nbformat": 4,
 "nbformat_minor": 2
}
