{
 "cells": [
  {
   "cell_type": "code",
   "execution_count": 30,
   "metadata": {},
   "outputs": [
    {
     "name": "stdout",
     "output_type": "stream",
     "text": [
      "['2-4,6-8', '2-3,4-5', '5-7,7-9', '2-8,3-7', '6-6,4-6', '2-6,4-8']\n"
     ]
    }
   ],
   "source": [
    "from typing import List\n",
    "\n",
    "with open('sample_input', 'r') as file:\n",
    "    sample_input = file.read().splitlines()\n",
    "\n",
    "print(sample_input)"
   ]
  },
  {
   "cell_type": "code",
   "execution_count": 31,
   "metadata": {},
   "outputs": [],
   "source": [
    "with open('input', 'r') as file:\n",
    "    input = file.read().splitlines()"
   ]
  },
  {
   "cell_type": "code",
   "execution_count": 32,
   "metadata": {},
   "outputs": [],
   "source": [
    "def get_assignments(line: str) -> List[int]:\n",
    "\n",
    "    '''\n",
    "    Computes a line in input. Returns a tuple of first_min, first_max, second_min, second_max.\n",
    "    They are respectively the min and max section of the first and second elves.\n",
    "    '''\n",
    "\n",
    "    first, second = line.split(',')\n",
    "    first_min, first_max = [int(i) for i in first.split('-')]\n",
    "    second_min, second_max = [int(i) for i in second.split('-')]\n",
    "\n",
    "    return (first_min, first_max, second_min, second_max)"
   ]
  },
  {
   "cell_type": "code",
   "execution_count": 33,
   "metadata": {},
   "outputs": [
    {
     "name": "stdout",
     "output_type": "stream",
     "text": [
      "answer part 1: 305\n"
     ]
    }
   ],
   "source": [
    "part_1 = 0\n",
    "\n",
    "for line in input:\n",
    "    first_min, first_max, second_min, second_max = get_assignments(line)\n",
    "    if set(range(first_min, first_max +1)).issubset(set(range(second_min, second_max +1))): part_1 += 1\n",
    "    elif set(range(second_min, second_max +1)).issubset(set(range(first_min, first_max +1))): part_1 += 1\n",
    "\n",
    "print('answer part 1:', part_1)"
   ]
  },
  {
   "cell_type": "code",
   "execution_count": 38,
   "metadata": {},
   "outputs": [
    {
     "name": "stdout",
     "output_type": "stream",
     "text": [
      "answer part 2: 811\n"
     ]
    }
   ],
   "source": [
    "part_2 = 0\n",
    "\n",
    "for line in input:\n",
    "    first_min, first_max, second_min, second_max = get_assignments(line)\n",
    "    if not set(range(first_min, first_max +1)).isdisjoint(set(range(second_min, second_max +1))): part_2 += 1\n",
    "\n",
    "print('answer part 2:', part_2)"
   ]
  }
 ],
 "metadata": {
  "kernelspec": {
   "display_name": "Python 3.10.4 ('venv': venv)",
   "language": "python",
   "name": "python3"
  },
  "language_info": {
   "codemirror_mode": {
    "name": "ipython",
    "version": 3
   },
   "file_extension": ".py",
   "mimetype": "text/x-python",
   "name": "python",
   "nbconvert_exporter": "python",
   "pygments_lexer": "ipython3",
   "version": "3.10.4"
  },
  "orig_nbformat": 4,
  "vscode": {
   "interpreter": {
    "hash": "977cbb65a0b52724956264297ec2b01bc8571f73e4413189b08099b2a2749b05"
   }
  }
 },
 "nbformat": 4,
 "nbformat_minor": 2
}
