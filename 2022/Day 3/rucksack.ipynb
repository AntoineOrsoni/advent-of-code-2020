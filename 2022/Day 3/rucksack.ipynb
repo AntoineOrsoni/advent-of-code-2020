{
 "cells": [
  {
   "cell_type": "code",
   "execution_count": 22,
   "metadata": {},
   "outputs": [],
   "source": [
    "from typing import List"
   ]
  },
  {
   "cell_type": "code",
   "execution_count": 55,
   "metadata": {},
   "outputs": [
    {
     "name": "stdout",
     "output_type": "stream",
     "text": [
      "['ZTmtZvZLTFNLMQMNRvZncdcHwcScJvcdHnVfwV', 'zqjqrzqjCqrjtqWhqChqrznhcfdfVnVSVgcffcgJcSgd', 'rtDGpzjjqjlrGsWqBWFRsbTPFQMTbRNRFmbs', 'FFlnlnVlmQqcBVhBRrSrGSwVdRJbztSt', 'NPPNsffWfNztRZSJNG', 'WpgpTTHDpgTDDpMLPGgMHslmBmmHcBQnFmcqhmnjlqQm', 'VlVNLlPQhtnDRPnP', 'QgqTffzZqgvgzWmqqZmGcDthtRFvnnFnhJtJJDDt', 'WGTBzSqBQTQmZBWHswpNbswLbSNCNl', 'PFzFQDdLjMzzQDhnDNmwZmqwRsmRRmMVNM']\n"
     ]
    }
   ],
   "source": [
    "with open('input', 'r') as file:\n",
    "    input = file.read().splitlines()\n",
    "\n",
    "print(input[:10])"
   ]
  },
  {
   "cell_type": "code",
   "execution_count": 57,
   "metadata": {},
   "outputs": [
    {
     "name": "stdout",
     "output_type": "stream",
     "text": [
      "['vJrwpWtwJgWrhcsFMMfFFhFp', 'jqHRNqRjqzjGDLGLrsFMfFZSrLrFZsSL', 'PmmdzqPrVvPwwTWBwg', 'wMqvLMZHhHMvwLHjbvcjnnSBnvTQFn', 'ttgJtRGJQctTZtZT', 'CrZsJsPPZsGzwwsLwLmpwMDw']\n"
     ]
    }
   ],
   "source": [
    "with open('sample_input', 'r') as file:\n",
    "    sample_input = file.read().splitlines()\n",
    "\n",
    "print(sample_input)"
   ]
  },
  {
   "cell_type": "code",
   "execution_count": 37,
   "metadata": {},
   "outputs": [],
   "source": [
    "def get_common(line) -> str:\n",
    "    \n",
    "    '''\n",
    "    Returns the common element between two words. \n",
    "    Each line is composed of two words of equal size (left half and right half).\n",
    "    '''\n",
    "    word_1 = line[:len(line)//2]\n",
    "    word_2 = line[len(line)//2:]\n",
    "    return set(word_1).intersection(word_2).pop()\n"
   ]
  },
  {
   "cell_type": "code",
   "execution_count": 53,
   "metadata": {},
   "outputs": [],
   "source": [
    "def get_priority(item: str) -> int:\n",
    "\n",
    "    '''\n",
    "    Returns the priority of each item.\n",
    "    '''\n",
    "\n",
    "    if item.isupper(): return ord(item) - 38\n",
    "    elif item.islower(): return ord(item) - 96"
   ]
  },
  {
   "cell_type": "code",
   "execution_count": 56,
   "metadata": {},
   "outputs": [
    {
     "name": "stdout",
     "output_type": "stream",
     "text": [
      "answer part 1: 7716\n"
     ]
    }
   ],
   "source": [
    "part_1 = 0\n",
    "for line in input:\n",
    "    part_1 += get_priority(get_common(line))\n",
    "\n",
    "print('answer part 1:', part_1)"
   ]
  },
  {
   "cell_type": "code",
   "execution_count": 66,
   "metadata": {},
   "outputs": [
    {
     "name": "stdout",
     "output_type": "stream",
     "text": [
      "answer part 2: 2973\n"
     ]
    }
   ],
   "source": [
    "index_group = 0\n",
    "part_2 = 0\n",
    "\n",
    "for _ in range(len(input)//3):\n",
    "    group_1 = input[index_group]\n",
    "    group_2 = input[index_group+1]\n",
    "    group_3 = input[index_group+2]\n",
    "\n",
    "    part_2 += get_priority(set(group_1).intersection(group_2, group_3).pop())\n",
    "\n",
    "    index_group += 3\n",
    "\n",
    "print('answer part 2:', part_2)"
   ]
  },
  {
   "cell_type": "code",
   "execution_count": null,
   "metadata": {},
   "outputs": [],
   "source": []
  }
 ],
 "metadata": {
  "kernelspec": {
   "display_name": "Python 3.10.4 ('venv': venv)",
   "language": "python",
   "name": "python3"
  },
  "language_info": {
   "codemirror_mode": {
    "name": "ipython",
    "version": 3
   },
   "file_extension": ".py",
   "mimetype": "text/x-python",
   "name": "python",
   "nbconvert_exporter": "python",
   "pygments_lexer": "ipython3",
   "version": "3.10.4"
  },
  "orig_nbformat": 4,
  "vscode": {
   "interpreter": {
    "hash": "977cbb65a0b52724956264297ec2b01bc8571f73e4413189b08099b2a2749b05"
   }
  }
 },
 "nbformat": 4,
 "nbformat_minor": 2
}
