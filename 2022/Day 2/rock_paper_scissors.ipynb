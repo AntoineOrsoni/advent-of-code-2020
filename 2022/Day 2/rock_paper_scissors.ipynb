{
 "cells": [
  {
   "cell_type": "code",
   "execution_count": 20,
   "metadata": {},
   "outputs": [
    {
     "name": "stdout",
     "output_type": "stream",
     "text": [
      "['A Z', 'A Z', 'A Z', 'B Z', 'C X', 'A Z', 'A Z', 'C Y', 'A Z', 'A Y']\n"
     ]
    }
   ],
   "source": [
    "with open('input', 'r') as file:\n",
    "    input = file.read().splitlines()\n",
    "\n",
    "print(input[:10])"
   ]
  },
  {
   "cell_type": "code",
   "execution_count": 21,
   "metadata": {},
   "outputs": [],
   "source": [
    "# A X: rock = 1 points\n",
    "# B Y: paper = 2 points\n",
    "# C Z: scissors = 3 points"
   ]
  },
  {
   "cell_type": "code",
   "execution_count": 22,
   "metadata": {},
   "outputs": [],
   "source": [
    "ROCK = 1\n",
    "PAPER = 2\n",
    "SCISSORS = 3\n",
    "\n",
    "LOSS = 0\n",
    "DRAW = 3\n",
    "WIN = 6"
   ]
  },
  {
   "cell_type": "code",
   "execution_count": 23,
   "metadata": {},
   "outputs": [
    {
     "name": "stdout",
     "output_type": "stream",
     "text": [
      "answer part 1: 12535\n"
     ]
    }
   ],
   "source": [
    "total_score = 0\n",
    "\n",
    "for line in input:\n",
    "    match line[2]:\n",
    "        case 'X': \n",
    "            total_score += ROCK\n",
    "            match line[0]:\n",
    "                case 'A': total_score += DRAW\n",
    "                case 'B': total_score += LOSS\n",
    "                case 'C': total_score += WIN\n",
    "        case 'Y': \n",
    "            total_score += PAPER\n",
    "            match line[0]:\n",
    "                case 'A': total_score += WIN\n",
    "                case 'B': total_score += DRAW\n",
    "                case 'C': total_score += LOSS\n",
    "        case 'Z': \n",
    "            total_score += SCISSORS\n",
    "            match line[0]:\n",
    "                case 'A': total_score += LOSS\n",
    "                case 'B': total_score += WIN\n",
    "                case 'C': total_score += DRAW\n",
    "    \n",
    "print('answer part 1:', total_score)"
   ]
  },
  {
   "cell_type": "code",
   "execution_count": 24,
   "metadata": {},
   "outputs": [
    {
     "name": "stdout",
     "output_type": "stream",
     "text": [
      "answer part 2: 15457\n"
     ]
    }
   ],
   "source": [
    "total_score = 0\n",
    "\n",
    "for line in input:\n",
    "    match line[2]:\n",
    "        case 'X': \n",
    "            total_score += LOSS\n",
    "            match line[0]:\n",
    "                case 'A': total_score += SCISSORS\n",
    "                case 'B': total_score += ROCK\n",
    "                case 'C': total_score += PAPER\n",
    "        case 'Y': \n",
    "            total_score += DRAW\n",
    "            match line[0]:\n",
    "                case 'A': total_score += ROCK\n",
    "                case 'B': total_score += PAPER\n",
    "                case 'C': total_score += SCISSORS\n",
    "        case 'Z': \n",
    "            total_score += WIN\n",
    "            match line[0]:\n",
    "                case 'A': total_score += PAPER\n",
    "                case 'B': total_score += SCISSORS\n",
    "                case 'C': total_score += ROCK\n",
    "    \n",
    "print('answer part 2:', total_score)"
   ]
  }
 ],
 "metadata": {
  "kernelspec": {
   "display_name": "Python 3.10.4 ('venv': venv)",
   "language": "python",
   "name": "python3"
  },
  "language_info": {
   "codemirror_mode": {
    "name": "ipython",
    "version": 3
   },
   "file_extension": ".py",
   "mimetype": "text/x-python",
   "name": "python",
   "nbconvert_exporter": "python",
   "pygments_lexer": "ipython3",
   "version": "3.10.4"
  },
  "orig_nbformat": 4,
  "vscode": {
   "interpreter": {
    "hash": "977cbb65a0b52724956264297ec2b01bc8571f73e4413189b08099b2a2749b05"
   }
  }
 },
 "nbformat": 4,
 "nbformat_minor": 2
}
