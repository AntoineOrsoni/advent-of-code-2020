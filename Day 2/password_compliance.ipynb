{
 "metadata": {
  "language_info": {
   "codemirror_mode": {
    "name": "ipython",
    "version": 3
   },
   "file_extension": ".py",
   "mimetype": "text/x-python",
   "name": "python",
   "nbconvert_exporter": "python",
   "pygments_lexer": "ipython3",
   "version": "3.9.0-final"
  },
  "orig_nbformat": 2,
  "kernelspec": {
   "name": "python3",
   "display_name": "Python 3.9.0 64-bit ('venv')",
   "metadata": {
    "interpreter": {
     "hash": "ceff438992558ccbcda3adecf8667709bf27dfb0c7b1db39724559836926d328"
    }
   }
  }
 },
 "nbformat": 4,
 "nbformat_minor": 2,
 "cells": [
  {
   "cell_type": "code",
   "execution_count": 1,
   "metadata": {},
   "outputs": [],
   "source": [
    "with open('input', 'r') as file:\n",
    "    # Saving input as a list\n",
    "    input = file.read().split('\\n')  "
   ]
  },
  {
   "cell_type": "code",
   "execution_count": 37,
   "metadata": {},
   "outputs": [],
   "source": [
    "import re\n",
    "\n",
    "work = []\n",
    "frequency_raw = []\n",
    "frquency = []\n",
    "key = []\n",
    "password = []\n",
    "\n",
    "for index, value in enumerate(input):\n",
    "    work.append(re.split(' ', value))\n",
    "\n",
    "    frequency_raw.append(work[index][0])\n",
    "    key.append(work[index][1][0])\n",
    "    password.append(work[index][2])\n"
   ]
  },
  {
   "cell_type": "code",
   "execution_count": 54,
   "metadata": {},
   "outputs": [],
   "source": [
    "frequency = []\n",
    "\n",
    "for i in range(len(frequency_raw)):\n",
    "    temp = re.split('-', frequency_raw[i])\n",
    "    frequency.append(temp)"
   ]
  },
  {
   "source": [
    "### Exercise 1"
   ],
   "cell_type": "markdown",
   "metadata": {}
  },
  {
   "cell_type": "code",
   "execution_count": 64,
   "metadata": {},
   "outputs": [
    {
     "output_type": "stream",
     "name": "stdout",
     "text": [
      "434\n"
     ]
    }
   ],
   "source": [
    "result = 0\n",
    "\n",
    "for i in range(len(frequency)):\n",
    "    count = password[i].count(key[i])\n",
    "\n",
    "    if count in range(int(frequency[i][0]), int(frequency[i][1])+1):\n",
    "        result += 1\n",
    "\n",
    "print(result)"
   ]
  },
  {
   "source": [
    "### Exercise 2"
   ],
   "cell_type": "markdown",
   "metadata": {}
  },
  {
   "cell_type": "code",
   "execution_count": 79,
   "metadata": {},
   "outputs": [
    {
     "output_type": "stream",
     "name": "stdout",
     "text": [
      "509\n"
     ]
    }
   ],
   "source": [
    "result = 0\n",
    "\n",
    "for i in range(len(frequency)):\n",
    "    \n",
    "    # The first char is the key (exclusive OR) second char is the key \n",
    "    if (password[i][int(frequency[i][0])-1] == key[i]) ^ (password[i][int(frequency[i][1])-1] == key[i]):\n",
    "        result += 1\n",
    "\n",
    "print(result)"
   ]
  },
  {
   "cell_type": "code",
   "execution_count": 96,
   "metadata": {},
   "outputs": [],
   "source": [
    "my_list = [1,2,3,4,5]"
   ]
  },
  {
   "cell_type": "code",
   "execution_count": 103,
   "metadata": {},
   "outputs": [
    {
     "output_type": "execute_result",
     "data": {
      "text/plain": [
       "[1, 2, 3, 4]"
      ]
     },
     "metadata": {},
     "execution_count": 103
    }
   ],
   "source": [
    "my_list[:-1]"
   ]
  },
  {
   "cell_type": "code",
   "execution_count": 104,
   "metadata": {},
   "outputs": [
    {
     "output_type": "stream",
     "name": "stdout",
     "text": [
      "[4, 5, 6, 7, 8, 9]\n[8, 9]\n"
     ]
    }
   ],
   "source": [
    "numbers = [1,2,3,4,5,6,7,8,9]\n",
    "print(numbers[3:])\n",
    "print(numbers[-2:])"
   ]
  },
  {
   "cell_type": "code",
   "execution_count": null,
   "metadata": {},
   "outputs": [],
   "source": []
  }
 ]
}