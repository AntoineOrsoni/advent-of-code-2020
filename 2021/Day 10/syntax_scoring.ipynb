{
 "cells": [
  {
   "cell_type": "code",
   "execution_count": 3,
   "metadata": {},
   "outputs": [],
   "source": [
    "from collections import Counter\n",
    "\n",
    "def part_1() -> None:\n",
    "    with open('input') as file:\n",
    "        lines = [[x for x in line] for line in file.read().splitlines()]\n",
    "\n",
    "    def get_first_error(line: list[str]) -> str:\n",
    "        for char in line:\n",
    "            match char:\n",
    "                case '}' | '>' | ')' | ']':\n",
    "                    return char\n",
    "        \n",
    "        return ''\n",
    "\n",
    "    errors = []\n",
    "\n",
    "    for index_line, line in enumerate(lines):\n",
    "        stop = False\n",
    "\n",
    "        while len(line) > 0 | stop == False:\n",
    "            \n",
    "            for index, value in enumerate(line):\n",
    "\n",
    "                # Line is corrupted, I will not pop out all elements\n",
    "                if index == len(line) - 1:\n",
    "                    stop = True\n",
    "                    break  \n",
    "                \n",
    "                if value == '(' and line[index + 1] == ')':\n",
    "                    line.pop(index + 1)\n",
    "                    line.pop(index)\n",
    "                    lines[index_line] = line\n",
    "                    #print('pop ()')\n",
    "                    break\n",
    "                elif value == '{' and line[index + 1] == '}':\n",
    "                    line.pop(index + 1)\n",
    "                    line.pop(index)\n",
    "                    lines[index_line] = line\n",
    "                    #print('pop {}')\n",
    "                    break\n",
    "                elif value == '<' and line[index + 1] == '>':\n",
    "                    line.pop(index + 1)\n",
    "                    line.pop(index)\n",
    "                    lines[index_line] = line\n",
    "                    #print('pop <>')\n",
    "                    break\n",
    "                elif value == '[' and line[index + 1] == ']':\n",
    "                    line.pop(index + 1)\n",
    "                    line.pop(index)\n",
    "                    lines[index_line] = line\n",
    "                    #print('pop []')\n",
    "                    break\n",
    "    \n",
    "        if len(line) > 0: errors.append(get_first_error(line))\n",
    "\n",
    "    count_errors = Counter(errors)\n",
    "        \n",
    "    answer = count_errors[')'] * 3 + count_errors[']'] * 57 + count_errors['}'] * 1197 + count_errors['>'] * 25137\n",
    "\n",
    "    print('answer part 1:', answer)\n",
    "        "
   ]
  },
  {
   "cell_type": "code",
   "execution_count": 4,
   "metadata": {},
   "outputs": [
    {
     "name": "stdout",
     "output_type": "stream",
     "text": [
      "answer part 1: 318099\n"
     ]
    }
   ],
   "source": [
    "part_1()"
   ]
  },
  {
   "cell_type": "code",
   "execution_count": 42,
   "metadata": {},
   "outputs": [],
   "source": [
    "def part_2() -> None:\n",
    "    with open('input') as file:\n",
    "        lines = [[x for x in line] for line in file.read().splitlines()]\n",
    "    \n",
    "    def is_corrupted(line: list[str]) -> bool:\n",
    "        if '}' in line or '>' in line or ')' in line or ']' in line: return True\n",
    "        else: return False\n",
    "\n",
    "    # Popping all pairs that are fine\n",
    "    for index_line, line in enumerate(lines):\n",
    "        stop = False\n",
    "\n",
    "        while len(line) > 0 | stop == False:\n",
    "            \n",
    "            for index, value in enumerate(line):\n",
    "\n",
    "                # Line is corrupted, I will not pop out all elements\n",
    "                if index == len(line) - 1:\n",
    "                    stop = True\n",
    "                    break  \n",
    "                \n",
    "                if value == '(' and line[index + 1] == ')':\n",
    "                    line.pop(index + 1)\n",
    "                    line.pop(index)\n",
    "                    lines[index_line] = line\n",
    "                    break\n",
    "                elif value == '{' and line[index + 1] == '}':\n",
    "                    line.pop(index + 1)\n",
    "                    line.pop(index)\n",
    "                    lines[index_line] = line\n",
    "                    break\n",
    "                elif value == '<' and line[index + 1] == '>':\n",
    "                    line.pop(index + 1)\n",
    "                    line.pop(index)\n",
    "                    lines[index_line] = line\n",
    "                    break\n",
    "                elif value == '[' and line[index + 1] == ']':\n",
    "                    line.pop(index + 1)\n",
    "                    line.pop(index)\n",
    "                    lines[index_line] = line\n",
    "                    break\n",
    "\n",
    "    # Popping corrupted from the list\n",
    "    lines_to_pop = []\n",
    "\n",
    "    for index_line, line in enumerate(lines):\n",
    "        if is_corrupted(line): lines_to_pop.append(index_line)\n",
    "    \n",
    "    for index in reversed(lines_to_pop):\n",
    "        lines.pop(index)\n",
    "    \n",
    "    scores = []\n",
    "    for line in lines:\n",
    "        score = 0\n",
    "        reversed_line = reversed(line)\n",
    "        for char in reversed_line:\n",
    "            match char:\n",
    "                case '(': char_value = 1\n",
    "                case '[': char_value = 2\n",
    "                case '{': char_value = 3\n",
    "                case '<': char_value = 4\n",
    "\n",
    "            score = score * 5 + char_value\n",
    "        \n",
    "        scores.append(score)\n",
    "\n",
    "    scores = sorted(scores)\n",
    "\n",
    "    print('answer part 2:', scores[int(len(scores) / 2)])\n",
    "\n"
   ]
  },
  {
   "cell_type": "code",
   "execution_count": 43,
   "metadata": {},
   "outputs": [
    {
     "name": "stdout",
     "output_type": "stream",
     "text": [
      "answer part 2: 2389738699\n"
     ]
    }
   ],
   "source": [
    "part_2()"
   ]
  },
  {
   "cell_type": "code",
   "execution_count": null,
   "metadata": {},
   "outputs": [],
   "source": []
  }
 ],
 "metadata": {
  "interpreter": {
   "hash": "977cbb65a0b52724956264297ec2b01bc8571f73e4413189b08099b2a2749b05"
  },
  "kernelspec": {
   "display_name": "Python 3.10.0 64-bit ('venv': venv)",
   "language": "python",
   "name": "python3"
  },
  "language_info": {
   "codemirror_mode": {
    "name": "ipython",
    "version": 3
   },
   "file_extension": ".py",
   "mimetype": "text/x-python",
   "name": "python",
   "nbconvert_exporter": "python",
   "pygments_lexer": "ipython3",
   "version": "3.10.0"
  },
  "orig_nbformat": 4
 },
 "nbformat": 4,
 "nbformat_minor": 2
}
