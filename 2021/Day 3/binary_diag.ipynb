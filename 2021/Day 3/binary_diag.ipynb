{
 "cells": [
  {
   "cell_type": "code",
   "execution_count": 1,
   "metadata": {},
   "outputs": [],
   "source": [
    "from collections import Counter"
   ]
  },
  {
   "cell_type": "code",
   "execution_count": 2,
   "metadata": {},
   "outputs": [],
   "source": [
    "with open('input') as file:\n",
    "    input = file.read().splitlines()"
   ]
  },
  {
   "cell_type": "code",
   "execution_count": 3,
   "metadata": {},
   "outputs": [],
   "source": [
    "def part_1(input: list) -> int:\n",
    "    'Computes a list to retrieve gamma rate and espsilon rate'\n",
    "\n",
    "    gamma = ''\n",
    "\n",
    "    for i in range(len(input[0])):\n",
    "        current_bits = [x[i] for x in input]\n",
    "        most_common_bit = Counter(current_bits).most_common(1)[0][0]\n",
    "        gamma += most_common_bit\n",
    "\n",
    "    epsilon = ''.join([str(~int(x) + 2) for x in gamma])\n",
    "\n",
    "    gamma = int(gamma, base = 2)\n",
    "    epsilon = int(epsilon, base = 2)\n",
    "\n",
    "    print(f'answer = {gamma * epsilon}')\n",
    "    "
   ]
  },
  {
   "cell_type": "code",
   "execution_count": 4,
   "metadata": {},
   "outputs": [
    {
     "name": "stdout",
     "output_type": "stream",
     "text": [
      "answer = 3242606\n"
     ]
    }
   ],
   "source": [
    "part_1(input)"
   ]
  },
  {
   "cell_type": "code",
   "execution_count": 5,
   "metadata": {},
   "outputs": [],
   "source": [
    "with open('sample_input') as file:\n",
    "    sample_input = file.read().splitlines()\n",
    "\n",
    "def part_2(input: list, param: str) -> int:\n",
    "\n",
    "    best_match = ''\n",
    "    stop = False\n",
    "\n",
    "    def get_most_common_bit(bit_list: list, position: int) -> Counter:\n",
    "        current_bits = [x[position] for x in bit_list]\n",
    "        most_common_bit = Counter(current_bits).most_common()\n",
    "\n",
    "        return most_common_bit\n",
    "\n",
    "    def get_param_position(param: str, bit_list: list, position: int):\n",
    "        current_counter = get_most_common_bit(bit_list, position)\n",
    "        #print(f'{current_counter = }')\n",
    "        match current_counter:\n",
    "            # equal number of 0 and 1\n",
    "            case current_counter if current_counter[0][1] == current_counter[1][1]:\n",
    "                #print('append 1')\n",
    "                if param == 'co2': return '0'\n",
    "                elif param == 'oxygen': return '1'\n",
    "            # 1 is more frequent\n",
    "            case current_counter if current_counter[0][0] == '1':\n",
    "                #print('append 1')\n",
    "                if param == 'oxygen': return '1'\n",
    "                elif param == 'co2': return '0'\n",
    "            # 0 is more frequent\n",
    "            case current_counter if current_counter[0][0] == '0':\n",
    "                #print('append 0')\n",
    "                if param == 'oxygen': return '0'\n",
    "                elif param == 'co2': return '1'\n",
    "\n",
    "    def pop_invalid(bit_list: list, match_str: str) -> list:\n",
    "\n",
    "        index_to_pop = []\n",
    "\n",
    "        for i in range(len(bit_list)):\n",
    "            # We only take from the beginning. Not a match in the middle\n",
    "            # We don't want to match '101' in '111111011111'\n",
    "            if match_str not in bit_list[i][:len(match_str)]:\n",
    "                index_to_pop.append(i) \n",
    "\n",
    "        index_to_pop.reverse()\n",
    "\n",
    "        for i in index_to_pop:\n",
    "            bit_list.pop(i)\n",
    "\n",
    "        return bit_list\n",
    "\n",
    "    while stop == False:\n",
    "        for i in range(len(input[0])):\n",
    "            if stop == True: break\n",
    "            best_match += get_param_position(param, input, i)\n",
    "            input = pop_invalid(input, best_match)\n",
    "            #print(f'{input = }')\n",
    "            #print(f'{len(input) = }')\n",
    "            if len(input) == 1: \n",
    "                #print('stop')\n",
    "                stop = True\n",
    "\n",
    "    return int(input[0], base=2)\n",
    "\n"
   ]
  },
  {
   "cell_type": "code",
   "execution_count": 7,
   "metadata": {},
   "outputs": [
    {
     "name": "stdout",
     "output_type": "stream",
     "text": [
      "oxygen = 3005\n",
      "co2 = 1616\n",
      "answer = 4856080\n"
     ]
    }
   ],
   "source": [
    "with open('input') as file:\n",
    "    sample_input = file.read().splitlines()\n",
    "\n",
    "oxygen = part_2(sample_input, 'oxygen')\n",
    "print(f'{oxygen = }')\n",
    "\n",
    "with open('input') as file:\n",
    "    sample_input = file.read().splitlines()\n",
    "\n",
    "co2 = part_2(sample_input, 'co2')\n",
    "print(f'{co2 = }')\n",
    "\n",
    "print('answer =', co2 * oxygen)"
   ]
  }
 ],
 "metadata": {
  "interpreter": {
   "hash": "977cbb65a0b52724956264297ec2b01bc8571f73e4413189b08099b2a2749b05"
  },
  "kernelspec": {
   "display_name": "Python 3.10.0 64-bit ('venv': venv)",
   "language": "python",
   "name": "python3"
  },
  "language_info": {
   "codemirror_mode": {
    "name": "ipython",
    "version": 3
   },
   "file_extension": ".py",
   "mimetype": "text/x-python",
   "name": "python",
   "nbconvert_exporter": "python",
   "pygments_lexer": "ipython3",
   "version": "3.10.0"
  },
  "orig_nbformat": 4
 },
 "nbformat": 4,
 "nbformat_minor": 2
}
