{
 "cells": [
  {
   "cell_type": "code",
   "execution_count": 27,
   "metadata": {},
   "outputs": [],
   "source": [
    "def part_1() -> None:\n",
    "    with open('input') as file:\n",
    "        batch = [int(x) for x in file.read().split(',')]\n",
    "    \n",
    "    def add_1_day(batch: list[int]) -> list[int]:\n",
    "        batch = [x - 1 if x > 0 else 10 for x in batch]\n",
    "        new_fish = batch.count(10)\n",
    "        for _ in range(new_fish):\n",
    "            batch.append(8)\n",
    "        batch = [x if x < 9 else 6 for x in batch]\n",
    "\n",
    "        return batch\n",
    "    \n",
    "    for i in range(1, 81):\n",
    "        batch = add_1_day(batch)\n",
    "\n",
    "    print('answer part 1:', len(batch))\n"
   ]
  },
  {
   "cell_type": "code",
   "execution_count": 28,
   "metadata": {},
   "outputs": [
    {
     "name": "stdout",
     "output_type": "stream",
     "text": [
      "answer part 1: 365862\n"
     ]
    }
   ],
   "source": [
    "part_1()"
   ]
  },
  {
   "cell_type": "code",
   "execution_count": null,
   "metadata": {},
   "outputs": [],
   "source": [
    "def part_2() -> None:\n",
    "    with open('input') as file:\n",
    "        batch = [int(x) for x in file.read().split(',')]\n",
    "    \n",
    "    def add_1_day(batch: list[int]) -> list[int]:\n",
    "        batch = [x - 1 if x > 0 else 10 for x in batch]\n",
    "        new_fish = batch.count(10)\n",
    "        for _ in range(new_fish):\n",
    "            batch.append(8)\n",
    "        batch = [x if x < 9 else 6 for x in batch]\n",
    "\n",
    "        return batch\n",
    "    \n",
    "    for i in range(1, 81):\n",
    "        batch = add_1_day(batch)\n",
    "\n",
    "    print('answer part 1:', len(batch))"
   ]
  },
  {
   "cell_type": "code",
   "execution_count": 29,
   "metadata": {},
   "outputs": [],
   "source": [
    "with open('sample_input') as file:\n",
    "    batch = [int(x) for x in file.read().split(',')]"
   ]
  },
  {
   "cell_type": "code",
   "execution_count": 30,
   "metadata": {},
   "outputs": [
    {
     "name": "stdout",
     "output_type": "stream",
     "text": [
      "[3, 4, 3, 1, 2]\n"
     ]
    }
   ],
   "source": [
    "print(batch)"
   ]
  },
  {
   "cell_type": "code",
   "execution_count": 111,
   "metadata": {},
   "outputs": [],
   "source": [
    "from collections import Counter\n",
    "\n",
    "def part_2() -> None:\n",
    "\n",
    "    with open('input') as file:\n",
    "        counter_batch = [int(x) for x in file.read().split(',')]\n",
    "        counter_batch = Counter(counter_batch)\n",
    "\n",
    "    batch = {}\n",
    "    for key, value in counter_batch.items():\n",
    "        batch[str(key)] = value\n",
    "\n",
    "\n",
    "    def add_1_day(count_fish:dict[str, int]) -> dict[str, int]:\n",
    "        new_batch = {}\n",
    "        #print(count_fish)\n",
    "        newborns = count_fish.get('0', 0)\n",
    "\n",
    "        for i in range(8):        \n",
    "            new_batch[f'{i}'] = count_fish.get(str(i+1), 0)\n",
    "            #print(f'new_batch[{i}] = {count_fish.get(str(i+1), 0)}')\n",
    "\n",
    "            \n",
    "        new_batch['8'] = newborns\n",
    "        try:\n",
    "            new_batch['6'] += newborns\n",
    "        except KeyError:\n",
    "            new_batch['6'] = newborns\n",
    "\n",
    "        return new_batch\n",
    "\n",
    "    for i in range(256):\n",
    "            batch = add_1_day(batch)\n",
    "\n",
    "    answer = 0\n",
    "\n",
    "    print('answer part 2:', sum(batch.values()))"
   ]
  },
  {
   "cell_type": "code",
   "execution_count": 112,
   "metadata": {},
   "outputs": [
    {
     "name": "stdout",
     "output_type": "stream",
     "text": [
      "answer part 2: 1653250886439\n"
     ]
    }
   ],
   "source": [
    "part_2()"
   ]
  },
  {
   "cell_type": "code",
   "execution_count": null,
   "metadata": {},
   "outputs": [],
   "source": []
  }
 ],
 "metadata": {
  "interpreter": {
   "hash": "977cbb65a0b52724956264297ec2b01bc8571f73e4413189b08099b2a2749b05"
  },
  "kernelspec": {
   "display_name": "Python 3.10.0 64-bit ('venv': venv)",
   "language": "python",
   "name": "python3"
  },
  "language_info": {
   "codemirror_mode": {
    "name": "ipython",
    "version": 3
   },
   "file_extension": ".py",
   "mimetype": "text/x-python",
   "name": "python",
   "nbconvert_exporter": "python",
   "pygments_lexer": "ipython3",
   "version": "3.10.0"
  },
  "orig_nbformat": 4
 },
 "nbformat": 4,
 "nbformat_minor": 2
}
