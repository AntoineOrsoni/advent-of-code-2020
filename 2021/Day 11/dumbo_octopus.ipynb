{
 "cells": [
  {
   "cell_type": "code",
   "execution_count": 17,
   "metadata": {},
   "outputs": [
    {
     "name": "stdout",
     "output_type": "stream",
     "text": [
      "[[5 4 8 3 1 4 3 2 2 3]\n",
      " [2 7 4 5 8 5 4 7 1 1]\n",
      " [5 2 6 4 5 5 6 1 7 3]\n",
      " [6 1 4 1 3 3 6 1 4 6]\n",
      " [6 3 5 7 3 8 5 4 7 8]\n",
      " [4 1 6 7 5 2 4 6 4 5]\n",
      " [2 1 7 6 8 4 1 7 2 1]\n",
      " [6 8 8 2 8 8 1 1 3 4]\n",
      " [4 8 4 6 8 4 8 5 5 4]\n",
      " [5 2 8 3 7 5 1 5 2 6]]\n"
     ]
    }
   ],
   "source": [
    "import numpy as np\n",
    "\n",
    "with open('sample_input') as file:\n",
    "    octopus = np.array([[int(i) for i in line] for line in file.read().splitlines()])\n",
    "\n",
    "print(octopus)"
   ]
  },
  {
   "cell_type": "code",
   "execution_count": 121,
   "metadata": {},
   "outputs": [],
   "source": [
    "import numpy as np\n",
    "\n",
    "class Octopus:\n",
    "\n",
    "    def __init__(self):\n",
    "        with open('input') as file:\n",
    "            self.grid = np.array([[int(i) for i in line] for line in file.read().splitlines()])\n",
    "            self.already_flashed = []\n",
    "            self.total_flash = 0\n",
    "\n",
    "    def add_step(self) -> None:\n",
    "\n",
    "        def increment_all(self) -> None:\n",
    "            for line_index, line in enumerate(self.grid):\n",
    "                for col_index, elem in enumerate(line):\n",
    "                    self.grid[line_index, col_index] += 1\n",
    "\n",
    "        def flash_this_octopus(self, line_index: int, col_index: int) -> None:\n",
    "            if line_index > 0:\n",
    "                self.grid[line_index - 1, col_index] += 1       # top\n",
    "            if line_index > 0 and col_index < 9:\n",
    "                self.grid[line_index - 1, col_index + 1] += 1   # top right\n",
    "            if col_index > 0:\n",
    "                self.grid[line_index, col_index - 1] += 1       # left\n",
    "            if line_index < 9 and col_index > 0:\n",
    "                self.grid[line_index + 1, col_index - 1] += 1   # bot left\n",
    "            if line_index > 0 and col_index > 0:\n",
    "                self.grid[line_index - 1, col_index - 1] += 1   # top left\n",
    "            if col_index < 9:\n",
    "                self.grid[line_index, col_index + 1] += 1       # right\n",
    "            if line_index < 9:\n",
    "                self.grid[line_index + 1, col_index] += 1       # bot\n",
    "            if line_index < 9 and col_index < 9:\n",
    "                self.grid[line_index + 1, col_index + 1] += 1   # bot right\n",
    "\n",
    "            self.already_flashed.append((line_index, col_index))\n",
    "\n",
    "        def flash_all(self) -> None:\n",
    "            self.already_flashed = []\n",
    "            high_stop = False\n",
    "\n",
    "            while high_stop == False:\n",
    "                \n",
    "                octopus_seen = 0\n",
    "                low_stop = False\n",
    "                \n",
    "                for line_index, line in enumerate(self.grid):\n",
    "                    for col_index, elem in enumerate(line):\n",
    "                        octopus_seen += 1\n",
    "                        if (elem > 9) and ((line_index, col_index) not in self.already_flashed):\n",
    "                            flash_this_octopus(self, line_index, col_index)\n",
    "                            low_stop = True\n",
    "                            break\n",
    "                    \n",
    "                    if low_stop == True: break\n",
    "                \n",
    "                if octopus_seen == 100: high_stop = True\n",
    "\n",
    "\n",
    "        def replace_flashed_zero(self) -> None:\n",
    "            for line_index, line in enumerate(self.grid):\n",
    "                for col_index, elem in enumerate(line):\n",
    "                    if self.grid[line_index, col_index] > 9:\n",
    "                        self.grid[line_index, col_index] = 0\n",
    "                        self.total_flash += 1\n",
    "\n",
    "        increment_all(self)\n",
    "        flash_all(self)\n",
    "        replace_flashed_zero(self)\n"
   ]
  },
  {
   "cell_type": "code",
   "execution_count": 122,
   "metadata": {},
   "outputs": [
    {
     "name": "stdout",
     "output_type": "stream",
     "text": [
      "[[6 7 9 2 2 2 7 5 4 4]\n",
      " [7 9 2 2 2 2 2 7 5 4]\n",
      " [9 3 2 2 2 2 2 2 7 5]\n",
      " [1 5 3 9 2 2 2 2 3 7]\n",
      " [1 1 4 8 8 2 2 3 5 1]\n",
      " [1 1 8 5 5 7 2 4 1 1]\n",
      " [1 1 6 4 4 5 6 8 1 1]\n",
      " [1 7 5 4 4 4 4 5 8 1]\n",
      " [8 5 4 4 4 4 4 5 8 4]\n",
      " [6 8 4 4 4 4 4 5 3 3]]\n",
      "1702\n"
     ]
    }
   ],
   "source": [
    "octopus = Octopus()\n",
    "\n",
    "for i in range(100):\n",
    "    #print(f'step {i + 1}')\n",
    "    octopus.add_step()\n",
    "    #print(octopus.grid)\n",
    "\n",
    "print(octopus.grid)\n",
    "\n",
    "print(octopus.total_flash)"
   ]
  },
  {
   "cell_type": "code",
   "execution_count": 120,
   "metadata": {},
   "outputs": [
    {
     "data": {
      "text/plain": [
       "2"
      ]
     },
     "execution_count": 120,
     "metadata": {},
     "output_type": "execute_result"
    }
   ],
   "source": [
    "octopus.grid[1,0]"
   ]
  },
  {
   "cell_type": "code",
   "execution_count": null,
   "metadata": {},
   "outputs": [],
   "source": []
  }
 ],
 "metadata": {
  "interpreter": {
   "hash": "977cbb65a0b52724956264297ec2b01bc8571f73e4413189b08099b2a2749b05"
  },
  "kernelspec": {
   "display_name": "Python 3.10.0 64-bit ('venv': venv)",
   "language": "python",
   "name": "python3"
  },
  "language_info": {
   "codemirror_mode": {
    "name": "ipython",
    "version": 3
   },
   "file_extension": ".py",
   "mimetype": "text/x-python",
   "name": "python",
   "nbconvert_exporter": "python",
   "pygments_lexer": "ipython3",
   "version": "3.10.4"
  },
  "orig_nbformat": 4
 },
 "nbformat": 4,
 "nbformat_minor": 2
}
