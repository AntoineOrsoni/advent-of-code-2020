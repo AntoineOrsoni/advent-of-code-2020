{
 "cells": [
  {
   "cell_type": "code",
   "execution_count": 3,
   "metadata": {},
   "outputs": [],
   "source": [
    "from collections import Counter\n",
    "\n",
    "def part_1() -> None:\n",
    "    \n",
    "    def get_fuel_cost(crabs: list, target_position: int) -> int:\n",
    "        '''Returns the fuel_cost to move all crabs in a list to a target_position.'''\n",
    "        fuel_cost = 0\n",
    "        count_crabs = Counter(crabs)\n",
    "\n",
    "        for crab_position, quantity in count_crabs.items():\n",
    "            fuel_cost += abs(int(crab_position) - target_position) * quantity\n",
    "\n",
    "        return fuel_cost\n",
    "\n",
    "    with open('input') as file:\n",
    "        crabs = [int(x) for x in file.read().split(',')]\n",
    "\n",
    "    average_position = round(sum(crabs) / len(crabs))\n",
    "    current_position = average_position\n",
    "    current_cost = get_fuel_cost(crabs, average_position)\n",
    "    previous_position = 0\n",
    "    previous_cost = 1000000000000\n",
    "\n",
    "    # target_position is lower than average_position\n",
    "    if get_fuel_cost(crabs, average_position) < get_fuel_cost(crabs, average_position + 1):\n",
    "        for i in crabs[:average_position +1]:\n",
    "            previous_position = current_position\n",
    "            if previous_cost > current_cost:\n",
    "                previous_cost = current_cost\n",
    "            else: \n",
    "                print('answer part 1 =', previous_cost)\n",
    "                break\n",
    "            current_position -= 1\n",
    "            current_cost = get_fuel_cost(crabs, current_position)\n",
    "    else:\n",
    "        for i in crabs[average_position:]:\n",
    "            previous_position = current_position\n",
    "            if previous_cost > current_cost:\n",
    "                previous_cost = current_cost\n",
    "            else: \n",
    "                print('answer part 1 =', previous_cost)\n",
    "                break\n",
    "            current_position += 1\n",
    "            current_cost = get_fuel_cost(crabs, current_position)"
   ]
  },
  {
   "cell_type": "code",
   "execution_count": 4,
   "metadata": {},
   "outputs": [
    {
     "name": "stdout",
     "output_type": "stream",
     "text": [
      "answer part 1 = 340987\n"
     ]
    }
   ],
   "source": [
    "part_1()"
   ]
  },
  {
   "cell_type": "code",
   "execution_count": 30,
   "metadata": {},
   "outputs": [],
   "source": [
    "def part_2() -> None:\n",
    "    \n",
    "    def fact(n):\n",
    "        if n == 0: return 0\n",
    "        else: return n + fact(n-1)\n",
    "\n",
    "    def get_fuel_cost(crabs: list, target_position: int) -> int:\n",
    "            '''Returns the fuel_cost to move all crabs in a list to a target_position.'''\n",
    "            fuel_cost = 0\n",
    "            count_crabs = Counter(crabs)\n",
    "\n",
    "            for crab_position, quantity in count_crabs.items():\n",
    "                fuel_cost += fact(abs(int(crab_position) - target_position)) * quantity\n",
    "\n",
    "            return fuel_cost\n",
    "\n",
    "    with open('input') as file:\n",
    "        crabs = [int(x) for x in file.read().split(',')]\n",
    "\n",
    "    average_position = round(sum(crabs) / len(crabs))\n",
    "    current_position = average_position\n",
    "    current_cost = get_fuel_cost(crabs, average_position)\n",
    "    previous_position = 0\n",
    "    previous_cost = 1000000000000\n",
    "\n",
    "    # target_position is lower than average_position\n",
    "    if get_fuel_cost(crabs, average_position) < get_fuel_cost(crabs, average_position + 1):\n",
    "        for i in crabs[:average_position +1]:\n",
    "            previous_position = current_position\n",
    "            if previous_cost > current_cost:\n",
    "                previous_cost = current_cost\n",
    "            else: \n",
    "                print('answer part 2 =', previous_cost)\n",
    "                break\n",
    "            current_position -= 1\n",
    "            current_cost = get_fuel_cost(crabs, current_position)\n",
    "    else:\n",
    "        for i in crabs[average_position:]:\n",
    "            previous_position = current_position\n",
    "            if previous_cost > current_cost:\n",
    "                previous_cost = current_cost\n",
    "            else: \n",
    "                print('answer part 2 =', previous_cost)\n",
    "                break\n",
    "            current_position += 1\n",
    "            current_cost = get_fuel_cost(crabs, current_position)"
   ]
  },
  {
   "cell_type": "code",
   "execution_count": 31,
   "metadata": {},
   "outputs": [
    {
     "name": "stdout",
     "output_type": "stream",
     "text": [
      "answer part 2 = 96987874\n"
     ]
    }
   ],
   "source": [
    "part_2()"
   ]
  }
 ],
 "metadata": {
  "interpreter": {
   "hash": "977cbb65a0b52724956264297ec2b01bc8571f73e4413189b08099b2a2749b05"
  },
  "kernelspec": {
   "display_name": "Python 3.10.0 64-bit ('venv': venv)",
   "language": "python",
   "name": "python3"
  },
  "language_info": {
   "codemirror_mode": {
    "name": "ipython",
    "version": 3
   },
   "file_extension": ".py",
   "mimetype": "text/x-python",
   "name": "python",
   "nbconvert_exporter": "python",
   "pygments_lexer": "ipython3",
   "version": "3.10.0"
  },
  "orig_nbformat": 4
 },
 "nbformat": 4,
 "nbformat_minor": 2
}
