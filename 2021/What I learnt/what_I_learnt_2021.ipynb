{
 "cells": [
  {
   "cell_type": "markdown",
   "metadata": {},
   "source": [
    "## Pass, continue, break"
   ]
  },
  {
   "cell_type": "code",
   "execution_count": 1,
   "metadata": {},
   "outputs": [
    {
     "name": "stdout",
     "output_type": "stream",
     "text": [
      "0\n",
      "1\n",
      "2\n",
      "antoine\n",
      "4\n"
     ]
    }
   ],
   "source": [
    "# Does nothing\n",
    "for i in range(5):\n",
    "    if i == 3:\n",
    "        pass\n",
    "        print('antoine')\n",
    "    else: print(i)"
   ]
  },
  {
   "cell_type": "code",
   "execution_count": 2,
   "metadata": {},
   "outputs": [
    {
     "name": "stdout",
     "output_type": "stream",
     "text": [
      "0\n",
      "1\n",
      "2\n",
      "4\n"
     ]
    }
   ],
   "source": [
    "# Stop current iteration and continues the loop\n",
    "for i in range(5):\n",
    "    if i == 3:\n",
    "        continue\n",
    "        print('antoine')\n",
    "    else: print(i)"
   ]
  },
  {
   "cell_type": "code",
   "execution_count": 3,
   "metadata": {},
   "outputs": [
    {
     "name": "stdout",
     "output_type": "stream",
     "text": [
      "0\n",
      "1\n",
      "2\n"
     ]
    }
   ],
   "source": [
    "# Stop current iteration and leaves the loop\n",
    "for i in range(5):\n",
    "    if i == 3:\n",
    "        break\n",
    "        print('antoine')\n",
    "    else: print(i)"
   ]
  },
  {
   "cell_type": "markdown",
   "metadata": {},
   "source": [
    "## Using lists"
   ]
  },
  {
   "cell_type": "code",
   "execution_count": 13,
   "metadata": {},
   "outputs": [
    {
     "name": "stdout",
     "output_type": "stream",
     "text": [
      "[0, 1, 2, 3, 4, 5, 6, 7, 8, 9]\n"
     ]
    }
   ],
   "source": [
    "# list comprehension\n",
    "my_list = [i for i in range(10)]\n",
    "print(my_list)"
   ]
  },
  {
   "cell_type": "code",
   "execution_count": 22,
   "metadata": {},
   "outputs": [
    {
     "name": "stdout",
     "output_type": "stream",
     "text": [
      "my_list = [0, 1, 2, 3, 4, 5, 6, 7, 8, 9]\n",
      "my_list[0] = 0\n",
      "my_list[-1] = 9\n",
      "my_list[-2] = 8\n",
      "my_list[1] = 1\n",
      "my_list[1:3] = [1, 2]\n",
      "my_list[1:] = [1, 2, 3, 4, 5, 6, 7, 8, 9]\n",
      "my_list[:2] = [0, 1]\n",
      "my_list[1:-2] = [1, 2, 3, 4, 5, 6, 7]\n",
      "my_list[1:100] = [1, 2, 3, 4, 5, 6, 7, 8, 9]\n",
      "my_list[50:100] = []\n",
      "my_list[50:-1] = []\n"
     ]
    }
   ],
   "source": [
    "print(f'{my_list = }')\n",
    "print(f'{my_list[0] = }')\n",
    "print(f'{my_list[-1] = }')\n",
    "print(f'{my_list[-2] = }')\n",
    "print(f'{my_list[1] = }')\n",
    "print(f'{my_list[1:3] = }')\n",
    "print(f'{my_list[1:] = }')\n",
    "print(f'{my_list[:2] = }')\n",
    "print(f'{my_list[1:-2] = }')\n",
    "print(f'{my_list[1:100] = }')\n",
    "print(f'{my_list[50:100] = }')\n",
    "print(f'{my_list[50:-1] = }')"
   ]
  },
  {
   "cell_type": "code",
   "execution_count": 2,
   "metadata": {},
   "outputs": [
    {
     "name": "stdout",
     "output_type": "stream",
     "text": [
      "0\n",
      "1\n",
      "2\n",
      "3\n",
      "4\n",
      "\n",
      "1\n",
      "2\n",
      "3\n",
      "4\n",
      "5\n"
     ]
    }
   ],
   "source": [
    "my_list = [1,2,3,4,5]\n",
    "\n",
    "# Using range(len(my_list))\n",
    "for i in range(len(my_list)):\n",
    "    print(i)\n",
    "\n",
    "print()\n",
    "\n",
    "# The pythonic way\n",
    "for i in my_list[:]:\n",
    "    print(i)"
   ]
  },
  {
   "cell_type": "code",
   "execution_count": 24,
   "metadata": {},
   "outputs": [
    {
     "name": "stdout",
     "output_type": "stream",
     "text": [
      "antoine\n"
     ]
    }
   ],
   "source": [
    "my_list_2 = []\n",
    "\n",
    "# Checking if a list is empty or not\n",
    "if my_list: print('antoine')\n",
    "if my_list_2: print('antoine_2')"
   ]
  },
  {
   "cell_type": "code",
   "execution_count": 6,
   "metadata": {},
   "outputs": [
    {
     "name": "stdout",
     "output_type": "stream",
     "text": [
      "[0, 1, 2, 3, 4, 5, 6, 7, 8, 9]\n",
      "45\n"
     ]
    }
   ],
   "source": [
    "print(my_list)\n",
    "print(sum(my_list))"
   ]
  },
  {
   "cell_type": "code",
   "execution_count": 2,
   "metadata": {},
   "outputs": [
    {
     "name": "stdout",
     "output_type": "stream",
     "text": [
      "10\n",
      "9\n",
      "8\n",
      "7\n",
      "6\n",
      "5\n",
      "4\n",
      "3\n",
      "2\n",
      "1\n"
     ]
    }
   ],
   "source": [
    "# class range(start, stop[, step])\n",
    "# print list in reverse order\n",
    "for i in range(10, 0, -1):\n",
    "    print(i)"
   ]
  },
  {
   "cell_type": "markdown",
   "metadata": {},
   "source": [
    "## Pattern matching use case (day 2)"
   ]
  },
  {
   "cell_type": "code",
   "execution_count": 15,
   "metadata": {},
   "outputs": [],
   "source": [
    "def part_1(input: list) -> int:\n",
    "    \n",
    "    horizontal = 0\n",
    "    depth = 0\n",
    "\n",
    "    for line in input:\n",
    "        instruction, value = line.split()\n",
    "        value = int(value)\n",
    "        \n",
    "        match instruction:\n",
    "            case 'forward': horizontal += value\n",
    "            case 'down': depth += value\n",
    "            case 'up': depth -= value\n",
    "\n",
    "    return horizontal * depth"
   ]
  },
  {
   "cell_type": "markdown",
   "metadata": {},
   "source": [
    "## Opening files"
   ]
  },
  {
   "cell_type": "code",
   "execution_count": 17,
   "metadata": {},
   "outputs": [
    {
     "name": "stdout",
     "output_type": "stream",
     "text": [
      "['180', '152', '159', '171', '178']\n"
     ]
    }
   ],
   "source": [
    "with open('input') as file:\n",
    "    input = file.read().splitlines()\n",
    "print(input[:5])\n",
    "# list of strings"
   ]
  },
  {
   "cell_type": "code",
   "execution_count": 18,
   "metadata": {},
   "outputs": [
    {
     "name": "stdout",
     "output_type": "stream",
     "text": [
      "[180, 152, 159, 171, 178]\n"
     ]
    }
   ],
   "source": [
    "with open('input') as file:\n",
    "    input = [int(i) for i in file.read().splitlines()]\n",
    "\n",
    "print(input[:5])\n",
    "# list of int with list comprehension"
   ]
  },
  {
   "cell_type": "markdown",
   "metadata": {},
   "source": [
    "## While loops waits for inner loop to finish before checking condition"
   ]
  },
  {
   "cell_type": "code",
   "execution_count": 4,
   "metadata": {},
   "outputs": [
    {
     "name": "stdout",
     "output_type": "stream",
     "text": [
      "0\n",
      "1\n",
      "2\n"
     ]
    }
   ],
   "source": [
    "stop = False\n",
    "\n",
    "while stop == False:\n",
    "    for i in range(3):\n",
    "        print(i)\n",
    "        stop = True"
   ]
  },
  {
   "cell_type": "code",
   "execution_count": null,
   "metadata": {},
   "outputs": [],
   "source": []
  }
 ],
 "metadata": {
  "interpreter": {
   "hash": "977cbb65a0b52724956264297ec2b01bc8571f73e4413189b08099b2a2749b05"
  },
  "kernelspec": {
   "display_name": "Python 3.10.0 64-bit ('venv': venv)",
   "language": "python",
   "name": "python3"
  },
  "language_info": {
   "codemirror_mode": {
    "name": "ipython",
    "version": 3
   },
   "file_extension": ".py",
   "mimetype": "text/x-python",
   "name": "python",
   "nbconvert_exporter": "python",
   "pygments_lexer": "ipython3",
   "version": "3.10.0"
  },
  "orig_nbformat": 4
 },
 "nbformat": 4,
 "nbformat_minor": 2
}
