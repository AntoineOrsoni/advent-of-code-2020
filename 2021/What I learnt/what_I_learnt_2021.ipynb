{
 "cells": [
  {
   "cell_type": "markdown",
   "metadata": {},
   "source": [
    "## Pass, continue, break"
   ]
  },
  {
   "cell_type": "code",
   "execution_count": 1,
   "metadata": {},
   "outputs": [
    {
     "name": "stdout",
     "output_type": "stream",
     "text": [
      "0\n",
      "1\n",
      "2\n",
      "antoine\n",
      "4\n"
     ]
    }
   ],
   "source": [
    "# Does nothing -- useful for empty functions to be coded later\n",
    "for i in range(5):\n",
    "    if i == 3:\n",
    "        pass\n",
    "        print('antoine')\n",
    "    else: print(i)"
   ]
  },
  {
   "cell_type": "code",
   "execution_count": 3,
   "metadata": {},
   "outputs": [
    {
     "name": "stdout",
     "output_type": "stream",
     "text": [
      "0\n",
      "1\n",
      "2\n",
      "4\n"
     ]
    }
   ],
   "source": [
    "# Stop current iteration and continues the loop\n",
    "for i in range(5):\n",
    "    if i == 3:\n",
    "        continue\n",
    "        print('antoine')\n",
    "    else: print(i)"
   ]
  },
  {
   "cell_type": "code",
   "execution_count": 3,
   "metadata": {},
   "outputs": [
    {
     "name": "stdout",
     "output_type": "stream",
     "text": [
      "0\n",
      "1\n",
      "2\n"
     ]
    }
   ],
   "source": [
    "# Stop current iteration and leaves the loop\n",
    "for i in range(5):\n",
    "    if i == 3:\n",
    "        break\n",
    "        print('antoine')\n",
    "    else: print(i)"
   ]
  },
  {
   "cell_type": "markdown",
   "metadata": {},
   "source": [
    "## Catching exceptions"
   ]
  },
  {
   "cell_type": "code",
   "execution_count": 4,
   "metadata": {},
   "outputs": [
    {
     "ename": "IndexError",
     "evalue": "list index out of range",
     "output_type": "error",
     "traceback": [
      "\u001b[0;31m---------------------------------------------------------------------------\u001b[0m",
      "\u001b[0;31mIndexError\u001b[0m                                Traceback (most recent call last)",
      "\u001b[0;32m/var/folders/wm/4y87q3b110s1_wm52mx9y_hc0000gn/T/ipykernel_30888/4171261600.py\u001b[0m in \u001b[0;36m<module>\u001b[0;34m\u001b[0m\n\u001b[1;32m      1\u001b[0m \u001b[0mmy_list\u001b[0m \u001b[0;34m=\u001b[0m \u001b[0;34m[\u001b[0m\u001b[0;36m1\u001b[0m\u001b[0;34m,\u001b[0m\u001b[0;36m2\u001b[0m\u001b[0;34m,\u001b[0m\u001b[0;36m3\u001b[0m\u001b[0;34m,\u001b[0m\u001b[0;36m4\u001b[0m\u001b[0;34m,\u001b[0m\u001b[0;36m5\u001b[0m\u001b[0;34m]\u001b[0m\u001b[0;34m\u001b[0m\u001b[0;34m\u001b[0m\u001b[0m\n\u001b[1;32m      2\u001b[0m \u001b[0;34m\u001b[0m\u001b[0m\n\u001b[0;32m----> 3\u001b[0;31m \u001b[0mprint\u001b[0m\u001b[0;34m(\u001b[0m\u001b[0mmy_list\u001b[0m\u001b[0;34m[\u001b[0m\u001b[0;36m6\u001b[0m\u001b[0;34m]\u001b[0m\u001b[0;34m)\u001b[0m\u001b[0;34m\u001b[0m\u001b[0;34m\u001b[0m\u001b[0m\n\u001b[0m",
      "\u001b[0;31mIndexError\u001b[0m: list index out of range"
     ]
    }
   ],
   "source": [
    "my_list = [1,2,3,4,5]\n",
    "\n",
    "print(my_list[6])"
   ]
  },
  {
   "cell_type": "code",
   "execution_count": 60,
   "metadata": {},
   "outputs": [
    {
     "name": "stdout",
     "output_type": "stream",
     "text": [
      "Hey, cant access this index because: list index out of range\n"
     ]
    }
   ],
   "source": [
    "try:\n",
    "    print(my_list[6])\n",
    "except IndexError as error:\n",
    "    print('Hey, cant access this index because:', error)"
   ]
  },
  {
   "cell_type": "markdown",
   "metadata": {},
   "source": [
    "## Using lists"
   ]
  },
  {
   "cell_type": "code",
   "execution_count": 5,
   "metadata": {},
   "outputs": [
    {
     "name": "stdout",
     "output_type": "stream",
     "text": [
      "[0, 1, 2, 3, 4, 5, 6, 7, 8, 9]\n"
     ]
    }
   ],
   "source": [
    "# list comprehension\n",
    "my_list = [i for i in range(10)]\n",
    "print(my_list)"
   ]
  },
  {
   "cell_type": "code",
   "execution_count": 8,
   "metadata": {},
   "outputs": [
    {
     "name": "stdout",
     "output_type": "stream",
     "text": [
      "[['a', 'n', 't', 'o', 'i', 'n', 'e'], ['d', 'y', 'l', 'a', 'n'], ['b', 'e', 'n', 'j', 'a', 'm', 'i', 'n']]\n"
     ]
    }
   ],
   "source": [
    "names = ['antoine', 'dylan', 'benjamin']\n",
    "\n",
    "my_list_2 = [[letter for letter in name] for name in names]\n",
    "print(my_list_2)"
   ]
  },
  {
   "cell_type": "code",
   "execution_count": 22,
   "metadata": {},
   "outputs": [
    {
     "name": "stdout",
     "output_type": "stream",
     "text": [
      "my_list = [0, 1, 2, 3, 4, 5, 6, 7, 8, 9]\n",
      "my_list[0] = 0\n",
      "my_list[-1] = 9\n",
      "my_list[-2] = 8\n",
      "my_list[1] = 1\n",
      "my_list[1:3] = [1, 2]\n",
      "my_list[1:] = [1, 2, 3, 4, 5, 6, 7, 8, 9]\n",
      "my_list[:2] = [0, 1]\n",
      "my_list[1:-2] = [1, 2, 3, 4, 5, 6, 7]\n",
      "my_list[1:100] = [1, 2, 3, 4, 5, 6, 7, 8, 9]\n",
      "my_list[50:100] = []\n",
      "my_list[50:-1] = []\n"
     ]
    }
   ],
   "source": [
    "print(f'{my_list = }')\n",
    "print(f'{my_list[0] = }')\n",
    "print(f'{my_list[-1] = }')\n",
    "print(f'{my_list[-2] = }')\n",
    "print(f'{my_list[1] = }')\n",
    "print(f'{my_list[1:3] = }')\n",
    "print(f'{my_list[1:] = }')\n",
    "print(f'{my_list[:2] = }')\n",
    "print(f'{my_list[1:-2] = }')\n",
    "print(f'{my_list[1:100] = }')\n",
    "print(f'{my_list[50:100] = }')\n",
    "print(f'{my_list[50:-1] = }')"
   ]
  },
  {
   "cell_type": "code",
   "execution_count": 23,
   "metadata": {},
   "outputs": [
    {
     "name": "stdout",
     "output_type": "stream",
     "text": [
      "a\n",
      "b\n",
      "c\n",
      "d\n",
      "e\n"
     ]
    }
   ],
   "source": [
    "my_list = ['a','b','c','d','e']\n",
    "\n",
    "# The pythonic way\n",
    "for i in my_list:\n",
    "    print(i)"
   ]
  },
  {
   "cell_type": "code",
   "execution_count": 24,
   "metadata": {},
   "outputs": [
    {
     "name": "stdout",
     "output_type": "stream",
     "text": [
      "antoine\n"
     ]
    }
   ],
   "source": [
    "my_list_2 = []\n",
    "\n",
    "# Checking if a list is empty or not\n",
    "if my_list: print('antoine')\n",
    "if my_list_2: print('antoine_2')"
   ]
  },
  {
   "cell_type": "code",
   "execution_count": 26,
   "metadata": {},
   "outputs": [
    {
     "name": "stdout",
     "output_type": "stream",
     "text": [
      "['a', 'b', 'c', 'd', 'e']\n",
      "je ne peux pas additioner les elem d une liste\n",
      "[1, 2, 3, 4, 5]\n",
      "15\n"
     ]
    }
   ],
   "source": [
    "try:\n",
    "    my_list = ['a','b','c','d','e']\n",
    "    print(my_list)\n",
    "    print(sum(my_list))\n",
    "except TypeError:\n",
    "    print('je ne peux pas additioner les elem d une liste')\n",
    "\n",
    "my_list = [1,2,3,4,5]\n",
    "\n",
    "print(my_list)\n",
    "print(sum(my_list))"
   ]
  },
  {
   "cell_type": "code",
   "execution_count": 27,
   "metadata": {},
   "outputs": [
    {
     "name": "stdout",
     "output_type": "stream",
     "text": [
      "100\n",
      "99\n",
      "98\n",
      "97\n",
      "96\n"
     ]
    }
   ],
   "source": [
    "# class range(start, stop[, step])\n",
    "# print list in reverse order\n",
    "for i in range(100, 95, -1):\n",
    "    print(i)"
   ]
  },
  {
   "cell_type": "code",
   "execution_count": 29,
   "metadata": {},
   "outputs": [
    {
     "name": "stdout",
     "output_type": "stream",
     "text": [
      "[0, 1, 2, 100, 4]\n",
      "[0, 1, 2, 100, 4]\n"
     ]
    }
   ],
   "source": [
    "my_list = [0,1,2,3,4]\n",
    "\n",
    "# Replace each 3 with 100\n",
    "for i in range(len(my_list)):\n",
    "  if my_list[i] == 3:\n",
    "    my_list[i] = 100 \n",
    "  else: my_list[i] = my_list[i]\n",
    "print(my_list)\n",
    "\n",
    "my_list = [x for x in range(5)]\n",
    "\n",
    "my_list = [x if x != 3 else 100 for x in my_list]\n",
    "print(my_list)"
   ]
  },
  {
   "cell_type": "code",
   "execution_count": 6,
   "metadata": {},
   "outputs": [
    {
     "name": "stdout",
     "output_type": "stream",
     "text": [
      "my_list[0] == 0\n",
      "my_list[1] == 1\n",
      "my_list[2] == 2\n",
      "my_list[3] == 100\n",
      "my_list[4] == 4\n",
      "--\n",
      "my_list[0] == 0\n",
      "my_list[1] == 1\n",
      "my_list[2] == 2\n",
      "my_list[3] == 100\n",
      "my_list[4] == 4\n"
     ]
    }
   ],
   "source": [
    "# Non Pythonic\n",
    "for i in range(len(my_list)):\n",
    "    print(f'my_list[{i}] == {my_list[i]}')\n",
    "\n",
    "print('--')\n",
    "\n",
    "# Pythonic\n",
    "for index, value in enumerate(my_list):\n",
    "    print(f'my_list[{index}] == {value}')"
   ]
  },
  {
   "cell_type": "markdown",
   "metadata": {},
   "source": [
    "## zip()"
   ]
  },
  {
   "cell_type": "code",
   "execution_count": 16,
   "metadata": {},
   "outputs": [
    {
     "name": "stdout",
     "output_type": "stream",
     "text": [
      "(1, 11)\n",
      "(2, 12)\n",
      "(3, 13)\n",
      "(4, 14)\n",
      "(5, 15)\n"
     ]
    }
   ],
   "source": [
    "list_1 = [1,  2,   3,  4,  5,  6,7]\n",
    "list_2 = [11, 12, 13, 14, 15]\n",
    "\n",
    "for elem in zip(list_1, list_2): \n",
    "    print(elem)\n",
    "\n",
    "# if one list is longer than the other, last indexes are not used"
   ]
  },
  {
   "cell_type": "code",
   "execution_count": 7,
   "metadata": {},
   "outputs": [
    {
     "name": "stdout",
     "output_type": "stream",
     "text": [
      "0 5\n",
      "1 6\n",
      "2 7\n",
      "3 8\n",
      "4 9\n"
     ]
    }
   ],
   "source": [
    "for i, j in zip(range(0,5), range(5, 10)):\n",
    "    print(i, j)"
   ]
  },
  {
   "cell_type": "markdown",
   "metadata": {},
   "source": [
    "## Pattern matching use case (day 2)"
   ]
  },
  {
   "cell_type": "code",
   "execution_count": 15,
   "metadata": {},
   "outputs": [],
   "source": [
    "def part_1(input: list) -> int:\n",
    "    \n",
    "    horizontal = 0\n",
    "    depth = 0\n",
    "\n",
    "    for line in input:\n",
    "        instruction, value = line.split()\n",
    "        value = int(value)\n",
    "        \n",
    "        match instruction:\n",
    "            case 'forward': horizontal += value\n",
    "            case 'down': depth += value\n",
    "            case 'up': depth -= value\n",
    "\n",
    "    return horizontal * depth"
   ]
  },
  {
   "cell_type": "markdown",
   "metadata": {},
   "source": [
    "## Opening files"
   ]
  },
  {
   "cell_type": "code",
   "execution_count": 17,
   "metadata": {},
   "outputs": [
    {
     "name": "stdout",
     "output_type": "stream",
     "text": [
      "['180', '152', '159', '171', '178']\n"
     ]
    }
   ],
   "source": [
    "with open('input') as file:\n",
    "    input = file.read().splitlines()\n",
    "print(input[:5])\n",
    "# list of strings"
   ]
  },
  {
   "cell_type": "code",
   "execution_count": 18,
   "metadata": {},
   "outputs": [
    {
     "name": "stdout",
     "output_type": "stream",
     "text": [
      "[180, 152, 159, 171, 178]\n"
     ]
    }
   ],
   "source": [
    "with open('input') as file:\n",
    "    input = [int(i) for i in file.read().splitlines()]\n",
    "\n",
    "print(input[:5])\n",
    "# list of int with list comprehension"
   ]
  },
  {
   "cell_type": "markdown",
   "metadata": {},
   "source": [
    "## While loops waits for inner loop to finish before checking condition"
   ]
  },
  {
   "cell_type": "code",
   "execution_count": 4,
   "metadata": {},
   "outputs": [
    {
     "name": "stdout",
     "output_type": "stream",
     "text": [
      "0\n",
      "1\n",
      "2\n"
     ]
    }
   ],
   "source": [
    "stop = False\n",
    "\n",
    "while stop == False:\n",
    "    for i in range(3):\n",
    "        print(i)\n",
    "        stop = True"
   ]
  },
  {
   "cell_type": "markdown",
   "metadata": {},
   "source": [
    "## Operator precedence\n",
    "\n",
    "https://docs.python.org/3/reference/expressions.html#operator-precedence"
   ]
  },
  {
   "cell_type": "code",
   "execution_count": 26,
   "metadata": {},
   "outputs": [
    {
     "name": "stdout",
     "output_type": "stream",
     "text": [
      "True\n",
      "True\n",
      "\n",
      "False\n",
      "False\n",
      "\n",
      "True\n"
     ]
    }
   ],
   "source": [
    "a = 1\n",
    "\n",
    "print(a == 1)\n",
    "print(a == 1 | a == 1)\n",
    "print()\n",
    "\n",
    "# two lines below are equivalent due to operator precedence\n",
    "print(a == 1 | a == 2)\n",
    "print(a == (a | 1) == 2)\n",
    "print()\n",
    "\n",
    "print((a == 1) | (a == 2))"
   ]
  },
  {
   "cell_type": "code",
   "execution_count": null,
   "metadata": {},
   "outputs": [],
   "source": []
  },
  {
   "cell_type": "markdown",
   "metadata": {},
   "source": [
    "## Counter"
   ]
  },
  {
   "cell_type": "code",
   "execution_count": 31,
   "metadata": {},
   "outputs": [
    {
     "name": "stdout",
     "output_type": "stream",
     "text": [
      "[(1, 7), (2, 6), (3, 5), (4, 5), (5, 3), (7, 3), (6, 1)]\n",
      "[(1, 7), (2, 6), (3, 5)]\n",
      "(6, 1)\n"
     ]
    }
   ],
   "source": [
    "from collections import Counter\n",
    "\n",
    "my_list = [1,1,1,1,1,1,1,2,2,2,2,2,2,3,3,3,3,3,4,4,4,4,4,5,5,5,6,7,7,7]\n",
    "\n",
    "counter_list = Counter(my_list)\n",
    "print(counter_list.most_common())\n",
    "\n",
    "# the three most common\n",
    "print(counter_list.most_common(3))\n",
    "\n",
    "# the least common\n",
    "print(counter_list.most_common()[-1])\n"
   ]
  },
  {
   "cell_type": "markdown",
   "metadata": {},
   "source": [
    "## Set"
   ]
  },
  {
   "cell_type": "code",
   "execution_count": 38,
   "metadata": {},
   "outputs": [
    {
     "name": "stdout",
     "output_type": "stream",
     "text": [
      "{8, 9, 10}\n"
     ]
    }
   ],
   "source": [
    "# set takes an iterable as parameter\n",
    "my_list = [1,1,1,1,1,1,1,2,2,2,2,2,2,3,3,3,3,3,4,4,4,4,4,5,5,5,6,7,7,7]\n",
    "my_list_2 = [1,2,3,4,5,6,7,8,9,10]\n",
    "\n",
    "# remove duplicates\n",
    "print(set(my_list))"
   ]
  },
  {
   "cell_type": "code",
   "execution_count": 39,
   "metadata": {},
   "outputs": [
    {
     "name": "stdout",
     "output_type": "stream",
     "text": [
      "{8, 9, 10}\n"
     ]
    }
   ],
   "source": [
    "# find unique elements between two iterables\n",
    "print(set(my_list_2) - set (my_list))"
   ]
  },
  {
   "cell_type": "code",
   "execution_count": 55,
   "metadata": {},
   "outputs": [
    {
     "name": "stdout",
     "output_type": "stream",
     "text": [
      "cant access an index of a set\n",
      "1\n",
      "2\n",
      "3\n",
      "4\n",
      "5\n",
      "6\n",
      "7\n"
     ]
    }
   ],
   "source": [
    "# access elemen of a set -- set are unordered and unchangeable\n",
    "\n",
    "# the below will print an error\n",
    "try:\n",
    "    print(set(my_list)[0])\n",
    "except TypeError:\n",
    "    print('cant access an index of a set')\n",
    "\n",
    "# access an element of a set\n",
    "for element in set(my_list):\n",
    "    print(element)"
   ]
  },
  {
   "cell_type": "code",
   "execution_count": 56,
   "metadata": {},
   "outputs": [
    {
     "name": "stdout",
     "output_type": "stream",
     "text": [
      "1\n"
     ]
    }
   ],
   "source": [
    "# this doesn't make sense as set are unordered\n",
    "\n",
    "print(list(set(my_list))[0])"
   ]
  },
  {
   "cell_type": "code",
   "execution_count": 61,
   "metadata": {},
   "outputs": [
    {
     "data": {
      "text/plain": [
       "True"
      ]
     },
     "execution_count": 61,
     "metadata": {},
     "output_type": "execute_result"
    }
   ],
   "source": [
    "# Because set are unordered, the below is True\n",
    "set([1,2,3,4]) == set([4,3,2,1])"
   ]
  },
  {
   "cell_type": "code",
   "execution_count": null,
   "metadata": {},
   "outputs": [],
   "source": []
  }
 ],
 "metadata": {
  "interpreter": {
   "hash": "977cbb65a0b52724956264297ec2b01bc8571f73e4413189b08099b2a2749b05"
  },
  "kernelspec": {
   "display_name": "Python 3.10.0 64-bit ('venv': venv)",
   "language": "python",
   "name": "python3"
  },
  "language_info": {
   "codemirror_mode": {
    "name": "ipython",
    "version": 3
   },
   "file_extension": ".py",
   "mimetype": "text/x-python",
   "name": "python",
   "nbconvert_exporter": "python",
   "pygments_lexer": "ipython3",
   "version": "3.10.4"
  },
  "orig_nbformat": 4
 },
 "nbformat": 4,
 "nbformat_minor": 2
}
