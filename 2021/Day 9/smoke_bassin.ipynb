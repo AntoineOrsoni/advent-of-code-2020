{
 "cells": [
  {
   "cell_type": "code",
   "execution_count": 1,
   "metadata": {},
   "outputs": [],
   "source": [
    "import numpy as np\n",
    "\n",
    "def part_1() -> None:\n",
    "\n",
    "    def is_low_point(grid: np.array, line: int, col: int) -> bool:\n",
    "        value = grid[line, col]\n",
    "\n",
    "        # UP\n",
    "        # check UP value is out of matrix\n",
    "        if line == 0: up = 10\n",
    "        else: up = grid[line - 1, col]\n",
    "\n",
    "        # DOWN\n",
    "        if line == len(grid[:,0]) - 1: down = 10\n",
    "        else: down = grid[line + 1, col]\n",
    "\n",
    "        # LEFT\n",
    "        if col == 0: left = 10\n",
    "        else: left = grid[line, col - 1]\n",
    "\n",
    "        # RIGHT\n",
    "        if col == len(grid[0]) - 1: right = 10\n",
    "        else: right = grid[line, col + 1]\n",
    "\n",
    "        if value < left and value < up and value < right and value < down:\n",
    "            return True\n",
    "        else: return False\n",
    "\n",
    "    with open('input') as file:\n",
    "        area = np.array([[int(number) for number in numbers] for numbers in file.read().splitlines()])\n",
    "\n",
    "    answer = 0\n",
    "\n",
    "    for x_index, line in enumerate(area[:]):\n",
    "        for y_index, y in enumerate(line):\n",
    "            if is_low_point(area, x_index, y_index): \n",
    "                answer += area[x_index,y_index] + 1\n",
    "\n",
    "    print('answer part 1:', answer)"
   ]
  },
  {
   "cell_type": "code",
   "execution_count": 2,
   "metadata": {},
   "outputs": [
    {
     "name": "stdout",
     "output_type": "stream",
     "text": [
      "answer part 1: 528\n"
     ]
    }
   ],
   "source": [
    "part_1()"
   ]
  },
  {
   "cell_type": "code",
   "execution_count": 3,
   "metadata": {},
   "outputs": [],
   "source": [
    "def part_2() -> None:\n",
    "\n",
    "    with open('input') as file:\n",
    "        area = np.array([[int(number) for number in numbers] for numbers in file.read().splitlines()])\n",
    "\n",
    "    def circle_grid(grid: np.array, number:int) -> np.array:\n",
    "\n",
    "        len_line = len(grid[0])\n",
    "        \n",
    "        # Add a first and last row of `number`\n",
    "        new_grid = np.vstack(([number for i in range(len_line)], grid, [number for i in range(len_line)]))\n",
    "        \n",
    "        len_column = len(new_grid[:,0])\n",
    "\n",
    "        # Add a last column of `number`\n",
    "        new_grid = np.insert(new_grid, len_line, [number for i in range(len_column)], axis = 1)\n",
    "        # Add a first column of `number`\n",
    "        new_grid = np.insert(new_grid, 0, [number for i in range(len_column)], axis = 1)\n",
    "\n",
    "        return new_grid    \n",
    "\n",
    "    def is_low_point(grid: np.array, line: int, col: int) -> bool:\n",
    "        value = grid[line, col]\n",
    "\n",
    "        # UP\n",
    "        # check UP value is out of matrix\n",
    "        if line == 0: up = 10\n",
    "        else: up = grid[line - 1, col]\n",
    "\n",
    "        # DOWN\n",
    "        if line == len(grid[:,0]) - 1: down = 10\n",
    "        else: down = grid[line + 1, col]\n",
    "\n",
    "        # LEFT\n",
    "        if col == 0: left = 10\n",
    "        else: left = grid[line, col - 1]\n",
    "\n",
    "        # RIGHT\n",
    "        if col == len(grid[0]) - 1: right = 10\n",
    "        else: right = grid[line, col + 1]\n",
    "\n",
    "        if value < left and value < up and value < right and value < down:\n",
    "            return True\n",
    "        else: return False\n",
    "\n",
    "    def get_bassin_size(grid: np.array, line:int, col: int, size_bassin: int) -> int:\n",
    "\n",
    "        grid[line, col] = 9\n",
    "\n",
    "        # LEFT\n",
    "        if grid[line, col - 1] < 9:\n",
    "            size_bassin = get_bassin_size(grid, line, col - 1, size_bassin)\n",
    "        # RIGHT\n",
    "        if grid[line, col + 1] < 9:\n",
    "            size_bassin = get_bassin_size(grid, line, col + 1, size_bassin)\n",
    "        # UP\n",
    "        if grid[line - 1, col] < 9:\n",
    "            size_bassin = get_bassin_size(grid, line - 1, col, size_bassin)\n",
    "        # LEFT\n",
    "        if grid[line + 1, col] < 9:\n",
    "            size_bassin = get_bassin_size(grid, line + 1, col, size_bassin)\n",
    "\n",
    "        return 1 + size_bassin\n",
    "\n",
    "    area = circle_grid(area, 9)\n",
    "    answer = []\n",
    "\n",
    "    for x_index, line in enumerate(area[:]):\n",
    "        for y_index, y in enumerate(line):\n",
    "            # It's the center of a bassin\n",
    "            if is_low_point(area, x_index, y_index): \n",
    "                answer.append(get_bassin_size(area, x_index, y_index, 0))\n",
    "    \n",
    "    answer = sorted(answer)\n",
    "\n",
    "    print('answer part 2:', answer[-3] * answer[-2] * answer[-1])"
   ]
  },
  {
   "cell_type": "code",
   "execution_count": 4,
   "metadata": {},
   "outputs": [
    {
     "name": "stdout",
     "output_type": "stream",
     "text": [
      "answer part 2: 920448\n"
     ]
    }
   ],
   "source": [
    "part_2()"
   ]
  }
 ],
 "metadata": {
  "interpreter": {
   "hash": "977cbb65a0b52724956264297ec2b01bc8571f73e4413189b08099b2a2749b05"
  },
  "kernelspec": {
   "display_name": "Python 3.10.0 64-bit ('venv': venv)",
   "language": "python",
   "name": "python3"
  },
  "language_info": {
   "codemirror_mode": {
    "name": "ipython",
    "version": 3
   },
   "file_extension": ".py",
   "mimetype": "text/x-python",
   "name": "python",
   "nbconvert_exporter": "python",
   "pygments_lexer": "ipython3",
   "version": "3.10.0"
  },
  "orig_nbformat": 4
 },
 "nbformat": 4,
 "nbformat_minor": 2
}
