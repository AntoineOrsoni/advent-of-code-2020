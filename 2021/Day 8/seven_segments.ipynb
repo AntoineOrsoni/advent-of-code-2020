{
 "cells": [
  {
   "cell_type": "code",
   "execution_count": 1,
   "metadata": {},
   "outputs": [],
   "source": [
    "def part_1() -> None:\n",
    "    with open('input') as file:\n",
    "        input = [line for line in file.read().splitlines()]\n",
    "        signal = []\n",
    "        four_digits = []\n",
    "\n",
    "        for i in input:\n",
    "            left, right = i.split(' | ')\n",
    "            signal.append(left)\n",
    "            four_digits.append(right)\n",
    "\n",
    "        signal = [line.split() for line in signal]\n",
    "        four_digits = [line.split() for line in four_digits]\n",
    "\n",
    "    answer = 0\n",
    "\n",
    "    for line in four_digits:\n",
    "        for word in line:\n",
    "            len_word = len(word)\n",
    "\n",
    "            if (len_word == 2) | (len_word == 3) | (len_word == 4) | (len_word == 7):\n",
    "                answer += 1\n",
    "\n",
    "    print('answer part 1:', answer)"
   ]
  },
  {
   "cell_type": "code",
   "execution_count": 2,
   "metadata": {},
   "outputs": [
    {
     "name": "stdout",
     "output_type": "stream",
     "text": [
      "answer part 1: 261\n"
     ]
    }
   ],
   "source": [
    "part_1()"
   ]
  },
  {
   "cell_type": "code",
   "execution_count": 5,
   "metadata": {},
   "outputs": [],
   "source": [
    "from collections import Counter\n",
    "\n",
    "def part_2() -> None:\n",
    "\n",
    "    answer = 0\n",
    "\n",
    "    with open('input') as file:\n",
    "        input = [line for line in file.read().splitlines()]\n",
    "        signal = []\n",
    "        four_digits = []\n",
    "\n",
    "        for i in input:\n",
    "            left, right = i.split(' | ')\n",
    "            signal.append(left)\n",
    "            four_digits.append(right)\n",
    "\n",
    "        signal = [line.split() for line in signal]\n",
    "        four_digits = [line.split() for line in four_digits]\n",
    "\n",
    "    def search_len(signal: list[str], size: int) -> list[str]:\n",
    "        '''Returns a list of all elements in signal that have a given size (number of letters).'''\n",
    "        match = []\n",
    "        for elem in signal:\n",
    "            if len(elem) == size: match.append(elem)\n",
    "        \n",
    "        return match\n",
    "\n",
    "    for elem_signal, elem_four_digit in zip(signal, four_digits):\n",
    "\n",
    "        # Find the occurence of each unknown segment\n",
    "        elem_signal_collapsed = ''\n",
    "        for letter in elem_signal:\n",
    "            elem_signal_collapsed += letter\n",
    "\n",
    "        count_letters = Counter(elem_signal_collapsed)\n",
    "\n",
    "        one = search_len(elem_signal, 2)[0]\n",
    "        four = search_len(elem_signal, 4)[0]\n",
    "        seven = search_len(elem_signal, 3)[0]\n",
    "        eight = search_len(elem_signal, 7)[0]\n",
    "\n",
    "        # top - occurs 8\n",
    "        top = list(set(seven) - set(one))[0] # occurs 8\n",
    "        # bottom_right - occurs 9\n",
    "        bottom_right = count_letters.most_common(1)[0][0]\n",
    "        # top_right - occurs 8. It's the only other semgent with 8.\n",
    "        if top in count_letters.most_common(3)[1:3][0]:\n",
    "            top_right = count_letters.most_common(3)[1:3][1][0]\n",
    "        else: top_right = count_letters.most_common(3)[1:3][0][0]\n",
    "        # bottom_left - occurs 4 (least common)\n",
    "        bottom_left = count_letters.most_common()[-1][0]\n",
    "        # top_left - occurs 6\n",
    "        top_left = count_letters.most_common()[-2][0]\n",
    "        # middle = four - top_left - top_right - bottom_right\n",
    "        middle = list(set(four) - set([top_left, top_right, bottom_right]))[0]\n",
    "        # bottom = eight - all_segments\n",
    "        bottom = list(set(eight) - set([top_left, bottom_left, top_right, bottom_right, top, middle]))[0]\n",
    "\n",
    "        # I should move the function out of the loop and take all segments as parameters, but I'm lazy :)\n",
    "        def get_number(digit: str) -> str:\n",
    "            if set(digit) == set([top, top_left, top_right, bottom_right, bottom_left, bottom]): return '0'\n",
    "            elif len(digit) == 2: return '1'\n",
    "            elif set(digit) == set([top, top_right, middle, bottom_left, bottom]): return '2'\n",
    "            elif set(digit) == set([top, top_right, bottom_right, bottom, middle]): return '3'\n",
    "            elif len(digit) == 4: return '4'\n",
    "            elif set(digit) == set([top, top_left, middle, bottom_right, bottom]): return '5'\n",
    "            elif set(digit) == set([top, top_left, middle, bottom_right, bottom_left, bottom]): return '6'\n",
    "            elif len(digit) == 3: return '7'\n",
    "            elif len(digit) == 7: return '8'\n",
    "            else: return '9'\n",
    "\n",
    "        number = ''\n",
    "        for digit in elem_four_digit:\n",
    "            number += get_number(digit)\n",
    "\n",
    "        answer += int(number) \n",
    "\n",
    "    print('answer part 2:', answer)\n",
    "    "
   ]
  },
  {
   "cell_type": "code",
   "execution_count": 6,
   "metadata": {},
   "outputs": [
    {
     "name": "stdout",
     "output_type": "stream",
     "text": [
      "answer part 2: 987553\n"
     ]
    }
   ],
   "source": [
    "part_2()"
   ]
  }
 ],
 "metadata": {
  "interpreter": {
   "hash": "977cbb65a0b52724956264297ec2b01bc8571f73e4413189b08099b2a2749b05"
  },
  "kernelspec": {
   "display_name": "Python 3.10.0 64-bit ('venv': venv)",
   "language": "python",
   "name": "python3"
  },
  "language_info": {
   "codemirror_mode": {
    "name": "ipython",
    "version": 3
   },
   "file_extension": ".py",
   "mimetype": "text/x-python",
   "name": "python",
   "nbconvert_exporter": "python",
   "pygments_lexer": "ipython3",
   "version": "3.10.0"
  },
  "orig_nbformat": 4
 },
 "nbformat": 4,
 "nbformat_minor": 2
}
