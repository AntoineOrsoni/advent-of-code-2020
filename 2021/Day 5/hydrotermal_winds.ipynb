{
 "cells": [
  {
   "cell_type": "code",
   "execution_count": 4,
   "metadata": {},
   "outputs": [],
   "source": [
    "from collections import Counter\n",
    "\n",
    "def part_1() -> int:\n",
    "\n",
    "    def add_line(line: str, map: list[tuple[int, int]]) -> None:\n",
    "        half_line = line.split(' -> ')\n",
    "        x1, y1 = [int(x) for x in half_line[0].split(',')]\n",
    "        x2, y2 = [int(x) for x in half_line[1].split(',')]\n",
    "\n",
    "        if y1 == y2:\n",
    "            if x1 < x2:\n",
    "                for i in range(x1, x2 + 1):\n",
    "                    map.append((i, y1))\n",
    "            else:\n",
    "                for i in range(x2, x1 + 1):\n",
    "                    map.append((i, y1))\n",
    "        elif x1 == x2:\n",
    "            if y1 < y2:\n",
    "                for i in range(y1, y2 + 1):\n",
    "                    map.append((x1, i))\n",
    "            else:\n",
    "                for i in range(y2, y1 + 1):\n",
    "                    map.append((x1, i))\n",
    "        return map\n",
    "    \n",
    "    with open('input') as file:\n",
    "        lines = file.read().splitlines()\n",
    "\n",
    "    map = []\n",
    "    answer = 0\n",
    "\n",
    "    for line in lines:\n",
    "        map = add_line(line, map)\n",
    "    \n",
    "    count_wind = Counter(map)\n",
    "\n",
    "    for element in count_wind.most_common():\n",
    "        if element[1] > 1: answer += 1\n",
    "        else: break\n",
    "    \n",
    "    return answer"
   ]
  },
  {
   "cell_type": "code",
   "execution_count": 5,
   "metadata": {},
   "outputs": [
    {
     "name": "stdout",
     "output_type": "stream",
     "text": [
      "answer part 1: 5084\n"
     ]
    }
   ],
   "source": [
    "print('answer part 1:', part_1())"
   ]
  },
  {
   "cell_type": "code",
   "execution_count": 28,
   "metadata": {},
   "outputs": [],
   "source": [
    "def part_2() -> int:\n",
    "\n",
    "    def add_line(line: str, map: list[tuple[int, int]]) -> None:\n",
    "        half_line = line.split(' -> ')\n",
    "        x1, y1 = [int(x) for x in half_line[0].split(',')]\n",
    "        x2, y2 = [int(x) for x in half_line[1].split(',')]\n",
    "\n",
    "        if y1 == y2:\n",
    "            if x1 < x2:\n",
    "                for i in range(x1, x2 + 1):\n",
    "                    map.append((i, y1))\n",
    "            else:\n",
    "                for i in range(x2, x1 + 1):\n",
    "                    map.append((i, y1))\n",
    "        elif x1 == x2:\n",
    "            if y1 < y2:\n",
    "                for i in range(y1, y2 + 1):\n",
    "                    map.append((x1, i))\n",
    "            else:\n",
    "                for i in range(y2, y1 + 1):\n",
    "                    map.append((x1, i))\n",
    "        else:\n",
    "            if x1 < x2 and y1 < y2:\n",
    "                for i, j in zip(range(x1, x2 + 1),range(y1, y2 + 1)):\n",
    "                    map.append((i, j))\n",
    "            elif x1 < x2 and y2 < y1:\n",
    "                for i, j in zip(range(x1, x2 + 1),range(y1, y2 - 1, -1)):\n",
    "                    map.append((i, j))\n",
    "            elif x2 < x1 and y1 < y2:\n",
    "                for i, j in zip(range(x1, x2 - 1, -1),range(y1, y2 + 1)):\n",
    "                    map.append((i, j))\n",
    "            elif x2 < x1 and y2 < y1:\n",
    "                for i, j in zip(range(x2, x1 + 1),range(y2, y1 + 1)):\n",
    "                    map.append((i, j))\n",
    "        return map\n",
    "\n",
    "    with open('input') as file:\n",
    "        lines = file.read().splitlines()\n",
    "\n",
    "    map = []\n",
    "    answer = 0\n",
    "\n",
    "    for line in lines:\n",
    "        map = add_line(line, map)\n",
    "    \n",
    "    count_wind = Counter(map)\n",
    "\n",
    "    for element in count_wind.most_common():\n",
    "        if element[1] > 1: answer += 1\n",
    "        else: break\n",
    "    \n",
    "    return answer"
   ]
  },
  {
   "cell_type": "code",
   "execution_count": 29,
   "metadata": {},
   "outputs": [
    {
     "name": "stdout",
     "output_type": "stream",
     "text": [
      "answer part 2: 17882\n"
     ]
    }
   ],
   "source": [
    "print('answer part 2:', part_2())"
   ]
  },
  {
   "cell_type": "code",
   "execution_count": null,
   "metadata": {},
   "outputs": [],
   "source": []
  }
 ],
 "metadata": {
  "interpreter": {
   "hash": "977cbb65a0b52724956264297ec2b01bc8571f73e4413189b08099b2a2749b05"
  },
  "kernelspec": {
   "display_name": "Python 3.10.0 64-bit ('venv': venv)",
   "language": "python",
   "name": "python3"
  },
  "language_info": {
   "codemirror_mode": {
    "name": "ipython",
    "version": 3
   },
   "file_extension": ".py",
   "mimetype": "text/x-python",
   "name": "python",
   "nbconvert_exporter": "python",
   "pygments_lexer": "ipython3",
   "version": "3.10.0"
  },
  "orig_nbformat": 4
 },
 "nbformat": 4,
 "nbformat_minor": 2
}
