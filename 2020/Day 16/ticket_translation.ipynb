{
 "metadata": {
  "language_info": {
   "codemirror_mode": {
    "name": "ipython",
    "version": 3
   },
   "file_extension": ".py",
   "mimetype": "text/x-python",
   "name": "python",
   "nbconvert_exporter": "python",
   "pygments_lexer": "ipython3",
   "version": "3.7.9-final"
  },
  "orig_nbformat": 2,
  "kernelspec": {
   "name": "python3",
   "display_name": "Python 3",
   "language": "python"
  }
 },
 "nbformat": 4,
 "nbformat_minor": 2,
 "cells": [
  {
   "cell_type": "code",
   "execution_count": 151,
   "metadata": {},
   "outputs": [],
   "source": [
    "def get_categories(input: list) -> dict:\n",
    "\n",
    "    input_categories = input[0].split('\\n')\n",
    "    categories = dict()\n",
    "    valid_range = list()\n",
    "\n",
    "    for item in input_categories:\n",
    "\n",
    "        interval = [x.strip() for x in item.split(':')[1].split('or')]\n",
    "\n",
    "        valid_range = list(range(int(interval[0].split('-')[0]), int(interval[0].split('-')[1])+1)) + \\\n",
    "                    list(range(int(interval[1].split('-')[0]), int(interval[1].split('-')[1])+1))\n",
    "\n",
    "        categories[item.split(':')[0]] = dict()\n",
    "        categories[item.split(':')[0]]['interval'] = valid_range\n",
    "        \n",
    "    return categories\n",
    "\n",
    "\n",
    "def get_your_ticket(input: list) -> list:\n",
    "    input_your_ticket = [int(number) for number in input[1].split('\\n')[1].split(',')]\n",
    "\n",
    "    return input_your_ticket\n",
    "\n",
    "\n",
    "def get_nearby_tickets(input: list) -> list:\n",
    "    input_nearby_tickets = input[2].split('\\n')\n",
    "    list_nearby_tickets = list()\n",
    "\n",
    "    for ticket in input_nearby_tickets:\n",
    "        if 'nearby tickets' in ticket:\n",
    "            pass\n",
    "        else:\n",
    "            list_nearby_tickets.append([int(number) for number in ticket.split(',')])\n",
    "\n",
    "    return list_nearby_tickets"
   ]
  },
  {
   "cell_type": "code",
   "execution_count": 152,
   "metadata": {},
   "outputs": [
    {
     "output_type": "stream",
     "name": "stdout",
     "text": [
      "{'class': {'interval': [1, 2, 3, 5, 6, 7]}, 'row': {'interval': [6, 7, 8, 9, 10, 11, 33, 34, 35, 36, 37, 38, 39, 40, 41, 42, 43, 44]}, 'seat': {'interval': [13, 14, 15, 16, 17, 18, 19, 20, 21, 22, 23, 24, 25, 26, 27, 28, 29, 30, 31, 32, 33, 34, 35, 36, 37, 38, 39, 40, 45, 46, 47, 48, 49, 50]}}\n\n[7, 1, 14]\n\n[[7, 3, 47], [40, 4, 50], [55, 2, 20], [38, 6, 12]]\n"
     ]
    }
   ],
   "source": [
    "with open('sample_input', 'r') as file:\n",
    "    input = file.read().split('\\n\\n')\n",
    "\n",
    "print(get_categories(input))\n",
    "print('')\n",
    "print(get_your_ticket(input))\n",
    "print('')\n",
    "print(get_nearby_tickets(input))"
   ]
  },
  {
   "source": [
    "## Part 1"
   ],
   "cell_type": "markdown",
   "metadata": {}
  },
  {
   "cell_type": "code",
   "execution_count": 150,
   "metadata": {},
   "outputs": [],
   "source": [
    "def part_1(input: list) -> int:\n",
    "    \n",
    "    ticket_error_rate = 0\n",
    "    valid_range = list()\n",
    "    categories = get_categories(input)\n",
    "    nearby_tickets = get_nearby_tickets(input)\n",
    "\n",
    "    for name, interval in categories.items():\n",
    "        for number in interval['interval']:\n",
    "            valid_range.append(number)\n",
    "\n",
    "    valid_range = set(valid_range)\n",
    "\n",
    "    for ticket in nearby_tickets:\n",
    "        for number in ticket:\n",
    "            if number not in valid_range:\n",
    "                ticket_error_rate += number\n",
    "\n",
    "    return ticket_error_rate"
   ]
  },
  {
   "cell_type": "code",
   "execution_count": 148,
   "metadata": {},
   "outputs": [
    {
     "output_type": "execute_result",
     "data": {
      "text/plain": [
       "71"
      ]
     },
     "metadata": {},
     "execution_count": 148
    }
   ],
   "source": [
    "with open('sample_input', 'r') as file:\n",
    "    input = file.read().split('\\n\\n')\n",
    "\n",
    "part_1(input)"
   ]
  },
  {
   "cell_type": "code",
   "execution_count": 149,
   "metadata": {},
   "outputs": [
    {
     "output_type": "execute_result",
     "data": {
      "text/plain": [
       "21071"
      ]
     },
     "metadata": {},
     "execution_count": 149
    }
   ],
   "source": [
    "with open('input', 'r') as file:\n",
    "    input = file.read().split('\\n\\n')\n",
    "\n",
    "part_1(input)"
   ]
  },
  {
   "source": [
    "## Part 2"
   ],
   "cell_type": "markdown",
   "metadata": {}
  },
  {
   "cell_type": "code",
   "execution_count": 358,
   "metadata": {},
   "outputs": [],
   "source": [
    "def remove_invalid_tickets(tickets: list, categories: dict) -> list:\n",
    "    index_invalid = list()\n",
    "    valid_range = list()\n",
    "\n",
    "    for value in categories.values():\n",
    "        #print(value)\n",
    "        for number in value['interval']:\n",
    "            #print(number)\n",
    "            valid_range.append(number)\n",
    "\n",
    "    valid_range = set(valid_range)\n",
    "\n",
    "    for index, ticket in enumerate(tickets):\n",
    "        for number in ticket:\n",
    "            if number not in valid_range:\n",
    "                index_invalid.append(index)\n",
    "                break\n",
    "    \n",
    "    index_invalid.sort(reverse = True)\n",
    "\n",
    "    for invalid in index_invalid:\n",
    "        tickets.pop(invalid)\n",
    "\n",
    "    return tickets\n",
    "\n",
    "def append_unique_intervals(categories: dict) -> dict:\n",
    "    for category, interval in categories.items():\n",
    "\n",
    "        unique_interval = list()\n",
    "        all_other_intervals = list()\n",
    "\n",
    "        for other_category, other_interval in categories.items():\n",
    "            if category is not other_category:\n",
    "                [all_other_intervals.append(x) for x in other_interval['interval']]\n",
    "                \n",
    "        unique_interval = set(interval['interval']) - set(all_other_intervals)\n",
    "        categories[category]['unique_interval'] = unique_interval\n",
    "\n",
    "    return categories"
   ]
  },
  {
   "cell_type": "code",
   "execution_count": 456,
   "metadata": {},
   "outputs": [],
   "source": [
    "def part_2(input: list):\n",
    "\n",
    "    categories = get_categories(input)\n",
    "\n",
    "    # Removing the invalid tickets\n",
    "    nearby_tickets = remove_invalid_tickets(get_nearby_tickets(input), categories)\n",
    "\n",
    "    intervals = list()\n",
    "\n",
    "    for catagory in categories.keys():\n",
    "        intervals.append(list())\n",
    "\n",
    "    for ticket in nearby_tickets:\n",
    "          for index, number in enumerate(ticket):\n",
    "              intervals[index].append(number)\n",
    "    \n",
    "    test_interval = dict()\n",
    "\n",
    "    for category in categories:\n",
    "        test_interval[category] = list()\n",
    "\n",
    "    for index, interval in enumerate(intervals):\n",
    "        for category in categories:\n",
    "            test_interval[category].append(all([x in categories[category]['interval'] for x in interval]))\n",
    "\n",
    "    # for key, value in test_interval.items():\n",
    "    #     print(f'- {key}')\n",
    "    #     print(value)\n",
    "    #     print('')\n",
    "\n",
    "    return test_interval"
   ]
  },
  {
   "cell_type": "code",
   "execution_count": 469,
   "metadata": {},
   "outputs": [
    {
     "output_type": "stream",
     "name": "stdout",
     "text": [
      "[(['True-class', 'False-class', 'False-class'], ['False-row', 'True-row', 'False-row'], ['False-seat', 'False-seat', 'True-seat'])]\n"
     ]
    }
   ],
   "source": [
    "with open('sample_input', 'r') as file:\n",
    "    input = file.read().split('\\n\\n')\n",
    "\n",
    "test_interval = part_2(input)\n",
    "\n",
    "combos = []\n",
    "\n",
    "for key, value in test_interval.items():\n",
    "    combo = []\n",
    "    for element in value:\n",
    "        combo.append(str(element) + '-' + key)\n",
    "\n",
    "    combos.append(combo)\n",
    "\n",
    "from itertools import combinations\n",
    "\n",
    "print(list(combinations(combos, 3)))"
   ]
  },
  {
   "cell_type": "code",
   "execution_count": 452,
   "metadata": {},
   "outputs": [
    {
     "output_type": "stream",
     "name": "stdout",
     "text": [
      "- departure location\n[True, False, True, True, False, False, True, True, False, True, True, True, True, False, False, False, True, True, False, True]\n\n- departure station\n[True, False, True, True, False, False, True, True, True, True, True, True, True, False, False, False, True, True, False, True]\n\n- departure platform\n[True, False, True, True, False, True, True, True, True, True, True, True, True, False, True, False, True, True, True, True]\n\n- departure track\n[True, False, True, True, False, True, True, True, True, True, True, True, True, False, True, False, True, True, False, True]\n\n- departure date\n[True, False, True, True, False, False, True, True, True, True, True, True, True, False, True, False, True, True, False, True]\n\n- departure time\n[True, False, True, True, False, False, True, True, False, True, False, True, True, False, False, False, True, True, False, True]\n\n- arrival location\n[False, False, False, False, False, False, False, False, False, True, False, False, False, False, False, False, False, False, False, False]\n\n- arrival station\n[True, False, False, True, False, False, False, True, False, True, False, True, False, False, False, False, True, False, False, True]\n\n- arrival platform\n[True, False, False, True, False, False, True, True, False, True, False, True, True, False, False, False, True, True, False, True]\n\n- arrival track\n[True, True, True, True, False, True, True, True, True, True, True, True, True, True, True, False, True, True, True, True]\n\n- class\n[True, False, False, False, False, False, False, False, False, True, False, False, False, False, False, False, False, False, False, False]\n\n- duration\n[True, True, True, True, False, True, True, True, True, True, True, True, True, True, True, True, True, True, True, True]\n\n- price\n[True, True, True, True, True, True, True, True, True, True, True, True, True, True, True, True, True, True, True, True]\n\n- route\n[True, False, False, True, False, False, True, True, False, True, False, True, True, False, False, False, True, False, False, True]\n\n- row\n[True, True, True, True, False, True, True, True, True, True, True, True, True, False, True, False, True, True, True, True]\n\n- seat\n[True, False, False, True, False, False, False, True, False, True, False, False, False, False, False, False, True, False, False, True]\n\n- train\n[True, False, False, False, False, False, False, False, False, True, False, False, False, False, False, False, True, False, False, False]\n\n- type\n[True, False, False, True, False, False, False, True, False, True, False, False, False, False, False, False, True, False, False, False]\n\n- wagon\n[True, False, False, False, False, False, False, True, False, True, False, False, False, False, False, False, True, False, False, False]\n\n- zone\n[True, False, False, True, False, False, True, True, False, True, False, True, False, False, False, False, True, False, False, True]\n\n"
     ]
    }
   ],
   "source": [
    "with open('input', 'r') as file:\n",
    "    input = file.read().split('\\n\\n')\n",
    "\n",
    "part_2(input)"
   ]
  },
  {
   "cell_type": "code",
   "execution_count": null,
   "metadata": {},
   "outputs": [],
   "source": []
  }
 ]
}