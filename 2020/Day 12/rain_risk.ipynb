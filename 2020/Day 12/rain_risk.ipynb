{
 "metadata": {
  "language_info": {
   "codemirror_mode": {
    "name": "ipython",
    "version": 3
   },
   "file_extension": ".py",
   "mimetype": "text/x-python",
   "name": "python",
   "nbconvert_exporter": "python",
   "pygments_lexer": "ipython3",
   "version": "3.7.9-final"
  },
  "orig_nbformat": 2,
  "kernelspec": {
   "name": "python3",
   "display_name": "Python 3",
   "language": "python"
  }
 },
 "nbformat": 4,
 "nbformat_minor": 2,
 "cells": [
  {
   "cell_type": "code",
   "execution_count": 1,
   "metadata": {},
   "outputs": [],
   "source": [
    "def get_next_position(move, north_offset, east_offset, facing_direction):\n",
    "    \n",
    "    action = move[:1]\n",
    "    value = int(move[1:])\n",
    "\n",
    "    directions = ['N', 'E', 'S', 'W']\n",
    "\n",
    "    if action == 'N': north_offset += value\n",
    "    elif action == 'S': north_offset -= value\n",
    "    elif action == 'E': east_offset += value\n",
    "    elif action == 'W': east_offset -= value\n",
    "    elif action == 'F':\n",
    "        if facing_direction == 'N': north_offset += value\n",
    "        elif facing_direction == 'S': north_offset -= value\n",
    "        elif facing_direction == 'E': east_offset += value\n",
    "        elif facing_direction == 'W': east_offset -= value\n",
    "    elif action == 'R':\n",
    "        facing_direction = directions[(directions.index(facing_direction) + value // 90) % 4]\n",
    "    elif action == 'L':\n",
    "        facing_direction = directions[(directions.index(facing_direction) - value // 90) % 4]\n",
    "\n",
    "    return north_offset, east_offset, facing_direction"
   ]
  },
  {
   "cell_type": "code",
   "execution_count": 2,
   "metadata": {},
   "outputs": [
    {
     "output_type": "stream",
     "name": "stdout",
     "text": [
      "result for Part 1\n1152\n"
     ]
    }
   ],
   "source": [
    "with open('input', 'r') as file:\n",
    "    input = file.read().split('\\n')\n",
    "\n",
    "facing_direction = 'E'\n",
    "north_offset = 0\n",
    "east_offset = 0\n",
    "\n",
    "for line in input:\n",
    "    north_offset, east_offset, facing_direction = get_next_position(line, \n",
    "                                                                      north_offset,                                                                                  east_offset,                                                                                   facing_direction)\n",
    "\n",
    "\n",
    "print('result for Part 1')\n",
    "print(abs(north_offset) + abs(east_offset))\n"
   ]
  },
  {
   "source": [
    "## Part 2"
   ],
   "cell_type": "markdown",
   "metadata": {}
  },
  {
   "cell_type": "code",
   "execution_count": 3,
   "metadata": {},
   "outputs": [],
   "source": [
    "def get_direction(offset_north, offset_east, degrees = 0):\n",
    "\n",
    "    directions = ['N', 'E', 'S', 'W']\n",
    "    \n",
    "    if offset_north >= 0: vertical = 'N'\n",
    "    else: vertical = 'S'\n",
    "\n",
    "    if offset_east >= 0: horizontal = 'E' \n",
    "    else: horizontal = 'W'\n",
    "\n",
    "    vertical = directions[(directions.index(vertical) + degrees // 90) % 4]\n",
    "    horizontal = directions[(directions.index(horizontal) + degrees // 90) % 4]\n",
    "\n",
    "    if degrees % 180 != 0:\n",
    "        vertical, horizontal = horizontal, vertical\n",
    "\n",
    "    return vertical + horizontal\n"
   ]
  },
  {
   "cell_type": "code",
   "execution_count": 4,
   "metadata": {},
   "outputs": [],
   "source": [
    "def get_next_position_2(move, waypoint_north, waypoint_east, boat_north, boat_east):\n",
    "    \n",
    "    action = move[:1]\n",
    "    value = int(move[1:])\n",
    "    current_direction = get_direction(waypoint_north, waypoint_east)\n",
    "\n",
    "    if action == 'N': waypoint_north += value\n",
    "    elif action == 'S': waypoint_north -= value\n",
    "    elif action == 'E': waypoint_east += value\n",
    "    elif action == 'W': waypoint_east -= value\n",
    "    elif action == 'F':\n",
    "        boat_north += waypoint_north * value\n",
    "        boat_east += waypoint_east * value\n",
    "\n",
    "    # Rotating the waypoint. Fun.\n",
    "    else:\n",
    "        if action == 'R':\n",
    "            new_direction = get_direction(waypoint_north, waypoint_east, value)\n",
    "        elif action == 'L':\n",
    "            new_direction = get_direction(waypoint_north, waypoint_east, -value)\n",
    "\n",
    "        if value == 180:\n",
    "            waypoint_north, waypoint_east = -waypoint_north, -waypoint_east\n",
    "\n",
    "        # Turn 1 quarter clockwise\n",
    "        elif (action == 'R' and value == 90) or (action == 'L' and value == 270):\n",
    "            # N > S\n",
    "            if current_direction[0] != new_direction[0]: \n",
    "                waypoint_north, waypoint_east = -waypoint_east, waypoint_north\n",
    "            # E > W\n",
    "            elif current_direction[1] != new_direction[1]:\n",
    "                waypoint_north, waypoint_east = -waypoint_east, waypoint_north\n",
    "        \n",
    "        # Turn 1 quarter counter clockwise\n",
    "        elif (action == 'R' and value == 270) or (action == 'L' and value == 90):\n",
    "            # S > N\n",
    "            if current_direction[0] != new_direction[0]: \n",
    "                waypoint_north, waypoint_east = waypoint_east, -waypoint_north\n",
    "            # W > E\n",
    "            elif current_direction[1] != new_direction[1]:\n",
    "                waypoint_north, waypoint_east = waypoint_east, -waypoint_north\n",
    "    \n",
    "    return waypoint_north, waypoint_east, boat_north, boat_east"
   ]
  },
  {
   "cell_type": "code",
   "execution_count": 5,
   "metadata": {},
   "outputs": [
    {
     "output_type": "stream",
     "name": "stdout",
     "text": [
      "result for Part 2\n58637\n"
     ]
    }
   ],
   "source": [
    "with open('input', 'r') as file:\n",
    "    input = file.read().split('\\n')\n",
    "\n",
    "boat_north = 0\n",
    "boat_east = 0\n",
    "waypoint_north = 1\n",
    "waypoint_east = 10\n",
    "\n",
    "for line in input:\n",
    "  \n",
    "    (waypoint_north, \n",
    "    waypoint_east, \n",
    "    boat_north, \n",
    "    boat_east) = get_next_position_2(line, waypoint_north, waypoint_east, \n",
    "                                     boat_north, boat_east)\n",
    "\n",
    "print('result for Part 2')\n",
    "print(abs(boat_north) + abs(boat_east))"
   ]
  }
 ]
}