{
 "metadata": {
  "language_info": {
   "codemirror_mode": {
    "name": "ipython",
    "version": 3
   },
   "file_extension": ".py",
   "mimetype": "text/x-python",
   "name": "python",
   "nbconvert_exporter": "python",
   "pygments_lexer": "ipython3",
   "version": "3.7.9-final"
  },
  "orig_nbformat": 2,
  "kernelspec": {
   "name": "python3",
   "display_name": "Python 3",
   "language": "python"
  }
 },
 "nbformat": 4,
 "nbformat_minor": 2,
 "cells": [
  {
   "cell_type": "code",
   "execution_count": 1,
   "metadata": {},
   "outputs": [],
   "source": [
    "def get_indices(number: int, occurences: dict) -> tuple:\n",
    "    return occurences[number]['last_indexes']\n",
    "\n",
    "def get_indices_1(number: int, input: list) -> list:\n",
    "    return [index for index, value in enumerate(input) if value == number]\n",
    "\n",
    "def add_occurence(number: int, occurences: dict, current_index: int) -> dict:\n",
    "    if number not in occurences.keys(): \n",
    "        occurences[number] = dict()\n",
    "        occurences[number]['occurences'] = 1\n",
    "        occurences[number]['last_indexes'] = current_index, 0\n",
    "    else: \n",
    "        occurences[number]['occurences'] += 1\n",
    "        index_1, index_2 = occurences[number]['last_indexes']\n",
    "        occurences[number]['last_indexes'] = current_index, index_1\n",
    "    \n",
    "    return occurences"
   ]
  },
  {
   "source": [
    "## Part 1"
   ],
   "cell_type": "markdown",
   "metadata": {}
  },
  {
   "cell_type": "code",
   "execution_count": 2,
   "metadata": {},
   "outputs": [],
   "source": [
    "def part_1(input: list) -> int:\n",
    "\n",
    "    spoken_numbers = input\n",
    "\n",
    "    while len(spoken_numbers) < 2020:\n",
    "\n",
    "        if spoken_numbers[-1] == spoken_numbers[-2]:\n",
    "            spoken_numbers.append(1)\n",
    "        else:\n",
    "            # Was it the first time the previous number was spoken?\n",
    "            if (spoken_numbers.count(spoken_numbers[-1]) - 1) < 1:\n",
    "                spoken_numbers.append(spoken_numbers.count(spoken_numbers[-1]) - 1) \n",
    "            else:\n",
    "                indices = get_indices_1(spoken_numbers[-1], spoken_numbers)\n",
    "                spoken_numbers.append(indices[-1] - indices[-2])\n",
    "    \n",
    "    print('result for part 1:')\n",
    "    print(spoken_numbers[-1])"
   ]
  },
  {
   "cell_type": "code",
   "execution_count": 3,
   "metadata": {},
   "outputs": [
    {
     "output_type": "stream",
     "name": "stdout",
     "text": [
      "result for part 1:\n436\n"
     ]
    }
   ],
   "source": [
    "with open('sample_input', 'r') as file:\n",
    "    input = [int(value) for value in file.read().split(',')]\n",
    "\n",
    "part_1(input)"
   ]
  },
  {
   "cell_type": "code",
   "execution_count": 4,
   "metadata": {},
   "outputs": [
    {
     "output_type": "stream",
     "name": "stdout",
     "text": [
      "result for part 1:\n421\n"
     ]
    }
   ],
   "source": [
    "with open('input', 'r') as file:\n",
    "    input = [int(value) for value in file.read().split(',')]\n",
    "\n",
    "part_1(input)"
   ]
  },
  {
   "source": [
    "## Part 2"
   ],
   "cell_type": "markdown",
   "metadata": {}
  },
  {
   "cell_type": "code",
   "execution_count": 7,
   "metadata": {},
   "outputs": [],
   "source": [
    "def part_2(input: list) -> int:\n",
    "\n",
    "    spoken_numbers = input\n",
    "    occurences = dict()\n",
    "    len_spoken_numbers = len(spoken_numbers)\n",
    "\n",
    "    for index, number in enumerate(spoken_numbers):\n",
    "        add_occurence(number, occurences, index)\n",
    "\n",
    "    while len_spoken_numbers < 30000000:\n",
    "\n",
    "        if spoken_numbers[-1] == spoken_numbers[-2]:\n",
    "            spoken_numbers.append(1)\n",
    "            add_occurence(1, occurences, len_spoken_numbers)\n",
    "        else:\n",
    "            # Was it the first time the previous number was spoken?\n",
    "            if occurences[spoken_numbers[-1]]['occurences'] - 1 < 1:\n",
    "                spoken_numbers.append(occurences[spoken_numbers[-1]]['occurences'] - 1)\n",
    "                add_occurence(spoken_numbers[-1], occurences, len_spoken_numbers)\n",
    "            else:\n",
    "                indices = get_indices(spoken_numbers[-1], occurences)\n",
    "                spoken_numbers.append(indices[0] - indices[1])\n",
    "                add_occurence(indices[0] - indices[1], occurences, len_spoken_numbers)\n",
    "        \n",
    "        len_spoken_numbers += 1\n",
    "\n",
    "    print('result for part 2:')\n",
    "    print(spoken_numbers[-1])"
   ]
  },
  {
   "cell_type": "code",
   "execution_count": 8,
   "metadata": {},
   "outputs": [
    {
     "output_type": "stream",
     "name": "stdout",
     "text": [
      "result for part 2:\n436\n"
     ]
    }
   ],
   "source": [
    "with open('input', 'r') as file:\n",
    "    input = [int(value) for value in file.read().split(',')]\n",
    "\n",
    "part_2(input)"
   ]
  },
  {
   "cell_type": "code",
   "execution_count": null,
   "metadata": {},
   "outputs": [],
   "source": []
  }
 ]
}