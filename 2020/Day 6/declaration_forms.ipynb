{
 "metadata": {
  "language_info": {
   "codemirror_mode": {
    "name": "ipython",
    "version": 3
   },
   "file_extension": ".py",
   "mimetype": "text/x-python",
   "name": "python",
   "nbconvert_exporter": "python",
   "pygments_lexer": "ipython3",
   "version": "3.7.9-final"
  },
  "orig_nbformat": 2,
  "kernelspec": {
   "name": "python3",
   "display_name": "Python 3"
  }
 },
 "nbformat": 4,
 "nbformat_minor": 2,
 "cells": [
  {
   "cell_type": "code",
   "execution_count": 1,
   "metadata": {},
   "outputs": [],
   "source": [
    "with open('input', 'r') as file:\n",
    "    # Saving input as a list\n",
    "    input = file.read().split('\\n\\n')\n",
    "\n",
    "    # dict of dicts with the answers\n",
    "    # { \n",
    "    #   group_0: { travelers: 8, answer: 'adsafkasdfhskd'},\n",
    "    #   group_1: { travelers: 2, answer: 'asdfsadf' }\n",
    "    # }\n",
    "    dict_answers = {}\n",
    "\n",
    "    for index, value in enumerate(input):\n",
    "        \n",
    "        travelers = 1 + value.count('\\n')\n",
    "        answer = value.replace('\\n', '')\n",
    "        \n",
    "        dict_answers[f'group_{index}'] = { 'travelers': travelers, 'answer': answer }\n"
   ]
  },
  {
   "cell_type": "code",
   "execution_count": 3,
   "metadata": {},
   "outputs": [],
   "source": [
    "from collections import Counter\n",
    "\n",
    "def get_common_answers(string):\n",
    "    \n",
    "    list_common_answers = []\n",
    "    count_answers = Counter(string)\n",
    "\n",
    "    for key, value in count_answers.items():\n",
    "        list_common_answers.append(key)\n",
    "\n",
    "    return list_common_answers\n",
    "\n",
    "def get_sum_duplicated_answers(dict_answers):\n",
    "\n",
    "    sum = 0\n",
    "\n",
    "    for group in dict_answers:\n",
    "        sum += len(get_common_answers(dict_answers[group]['answer']))\n",
    "\n",
    "    return sum\n",
    "\n",
    "def get_sum_all_yes(dict_answers):\n",
    "\n",
    "    sum = 0\n",
    "\n",
    "    for group in dict_answers:\n",
    "        for key, value in Counter(dict_answers[group]['answer']).items():\n",
    "            if value == dict_answers[group]['travelers']: sum += 1\n",
    "\n",
    "    return sum\n"
   ]
  },
  {
   "cell_type": "code",
   "execution_count": 4,
   "metadata": {},
   "outputs": [
    {
     "output_type": "stream",
     "name": "stdout",
     "text": [
      "6633\n3202\n"
     ]
    }
   ],
   "source": [
    "print(get_sum_duplicated_answers(dict_answers))\n",
    "print(get_sum_all_yes(dict_answers))"
   ]
  }
 ]
}