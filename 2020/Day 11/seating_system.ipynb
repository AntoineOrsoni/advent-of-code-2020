{
 "metadata": {
  "language_info": {
   "codemirror_mode": {
    "name": "ipython",
    "version": 3
   },
   "file_extension": ".py",
   "mimetype": "text/x-python",
   "name": "python",
   "nbconvert_exporter": "python",
   "pygments_lexer": "ipython3",
   "version": "3.7.9-final"
  },
  "orig_nbformat": 2,
  "kernelspec": {
   "name": "python3",
   "display_name": "Python 3.7.9 64-bit ('venv')",
   "metadata": {
    "interpreter": {
     "hash": "ceff438992558ccbcda3adecf8667709bf27dfb0c7b1db39724559836926d328"
    }
   }
  }
 },
 "nbformat": 4,
 "nbformat_minor": 2,
 "cells": [
  {
   "cell_type": "code",
   "execution_count": 1,
   "metadata": {},
   "outputs": [
    {
     "output_type": "stream",
     "name": "stdout",
     "text": [
      "['LLLLLLLLLLLL.LLLLLLLLLL.LLLL.LLLL.LLLLLLLLLLL.LLLL.LLLLLLL.LL.LLLLLLLL.LLL.LLLLLLLLLLL.LLLLLLL', 'LLLLLLLLLLL.LLLL.L..LLL.LL.LLLLLLLLLLL.LLLLLL.LLLLLLLL.L.LLLLL.LLLLLL..LLL.LLLLLLLLLLLLLLLLLLL', 'LLLLLL.LLLL.LLLL.L.LLLL.LLL.LLLLLLLLLLLLLLLLL.LLLLLLLLLLLLLLL..LLLLLLLLLLLLLLLLLLLLLLLLLLL.LLL', 'LLLLLLLLLLL.LL.LL..LLLL.LLLL.L.LLLLLLL.LLLLLL.LLLLLLLLLLLLLLL.LLLLLLLL.LLLLLLLL.LLLLLLLLLLLLLL', 'LLLL.L.L.L..LLLLLLLLLL..LLL..LLLL.LLLL.LLLLLLLL.LLLLLL.LLLLLL.LLLLLLLLLLLLLLL.L.LLLLLLLLLLLLLL', 'LLLLLL.LLLL.LLLLLL.LLLL.LLLL.LL.LLLLLL.LLLLLLLLLLLLLLL.LLLLLL.LLLLLLLL.LLL.LLLL.LLLLLLL.LLLLLL', '.L.L....LL......LL..LL.....LLLLL.......L....LL......L.L..L..L..L.L.LL.....LL.......L.L....L..L', 'LLLLLL.LLLL.LLLLLL.LLLL.LLLLLLLLLLLLLL.LLLLLL.LLLLLLLL.LLLL.L.LLLLLLLLLLLLLLLLL.LLLLLLLLLLLLLL', 'LLLLLL..LLL.LLLLLLLLLLLLLLLLLLL.LLLLLLLLLLLLL..LLLLLLL.LLLLLL.LLLLLLLL.LLLLLLLLLLLLLLL.LL.LLLL', 'LLLLLL.LLLL.LLLLLL.L.LL.LLLL.LLLLLLLLL.LLLLLLLLLLLL.LL.LLLLLLLLLL..LLLLLL.LLLLLLLLLLLLLLLLLLLL', 'LL..LL.LLLL.LLLLLL.LLLLLL.LL.LLLLL.LLLLLLLLLL.LLLLLLLLLLLLLLL.LL.LLLLL.LLLLLLLLLLLLLLLLLLLLLLL', 'L......LLLLL.L....LL...L..........L..L...L.......LL.L.L.L........L......L..L...L...LL.LL...LL.', 'LLLLLL.L.LL.LLLLLL.LLLLLLLLL.LLLLLLLLLLLLLLLL.LLLLLLLL.LLLLLL..LLL.LLL.LLLLLLLLLLLLLLLLLLL.LLL', '.LLL.L.LLLL.L.LLLLL.LLL.LLLL.LLLLLLL.LLLLLLLL.LLLLLLLLLL.LLLL.LLLLLLLLLLLLLLLL.LLLLLLLLLLLLLLL', 'LLLLLL.LLLLLLLLL.LLLLLL.LLLLLLLLLLLLLL.LL.LLL.LLLL.LLL.LLLLLL..LLL.LLL.LL.LLL.L..L.LLLL.LLLLLL', 'LLLLLL.LLLL.LLLLLLLLLLLLLLLLL.LLLLLLLLLLLLLLLLLLLLLLLLLLLLLLL.LLLLLLLLLLLLLLLLLLLLLLLLLLLLL.LL', 'LLLLLL.LLLLLLLLLLLLLLLLLLLLL.LLLLLLLLL..LLLLL.LL.LLLLL.LLLLLL.LLLLLLLLLLLLLLLLLLLLLLLLLL.LLLLL', 'LLLLLL.LLLL.LLLLLL.LLLLLLLLL.LLLLLLLLL.LLLLLL.LLL.L.LL.LLLLLL..LLLLLLL.LLLLLLLL.LLLLLLLLLLLLLL', 'LLLLL..LL.L.LLLLLL.LLLL.LLLL.LLLLLLLLL.LLLLLLLLLLLLLLL.LLL.LL.LLLLLLLL.LLLLLLLLLLLLLLLLLL.LLLL', 'LLLLLL.LLLL.LLLLLL.LLLL.LLLL.LLLLLLLLL.LLLLLL.LLLLLLLL.LLLL.LLLLLLLL.LLLLLLLLLLLLLLLLLLLLLLLLL', '.LL.......L.LL.L.L.........L..L...L..LL..L.....LL...LLLL.......L.........L.L..L...L.LL.LL...L.', 'LLLLLL.LLLLLLLLLL..LLLLLLLLL.LLLLLLLLL.LL.LLLLLLLLL.LL.LLLLLLL.LLLLLLL.LLLLLLLL.LLLLLLLLLLLLLL', 'LLL.LL.LLL..LLLLLL.LLLLLLLLL.LLLLLLLLL.LL.LLL.LLLLLLLL.LLLLLL.LLLLLLLL.LL.LLLLL.LLLLLLLLLLLLLL', 'LLLLLL.LLLLLLLLLLL.LLLL.LLLLLLLLLLLLLL..LLL.L.LLLLLLLL.LLLLLLLLLLLLLLL.L...LLLL.LLLLLLLLLL.LLL', 'LLLLLLLLLLLLLLLLLL.LLLL..L.L.LLLLL.LL..LLLLLL.LLLLLLLL.LLLLLL.LLLLLLLLLLLLLLLLL.LLLLLLL.LLLLLL', 'LLLLLLLLLLL.LLLLLLL.LLLLLLLL.LLLLLLLLL.LLL.LL.LLLL.LLL.LLLLLL.LLLLLLL..LLLLLLLLLLLLLLLLLL.LLLL', 'LLLLLLLLLLL.LLLLLL.LLLLLLLLL.L.LLLLLLLLL.LLLL.LLLLLLL..LLLLLLLLLLLLLLL.LLLLLLLL.LLLLLLLLLLLLLL', 'LLLLLLLLL.L.LLLLLLLLLLLLLLLL.LL.LLL.LL.L.LLLL.LLLLLLLLL.LLLLLLLLLLLLLL.LLLLLLLL.LLLLLLLLLLLLLL', 'LLLLLL.LLLL.LLLLLLLLL.L.LLLL.LLLLLLLLL.LLLLLL.LLLLLLLL.LLLLLL.LLLLLLLL.LLLLLLL.LLLLLLLLLLLLLLL', 'LLLLLL.L.LL.LLLLLL.LLLLLLLLL.LLLLLLLLL.LLLLLL..LLLLLLL.LL.LLL.LLLLLLLLLLLLLLLLLLLL.LLLLLLLLLLL', '.L........LL..L..LLL.LL.LL..L.....L..L........LL.LL.L..L.L..LL.L......L..L.L..L.L...L..L....L.', 'LLLLLL.LLL.LLLL.LLLLLLL.LLL.L.LL.LLLLL.LLLLLLLLLLLLLLL.LLLLLL.LLLLLLLL.LLLLLLLLLLLLLLLLLLLLLLL', 'LLLL.LLLLL.LLLLLLL.LLLL.LLLLLLLLLLLLLL.LLLLLLLLLLLLLLLLLLLLLLLLLLLLL.LLLLLLLLLL.LLLLLLL.LLLLLL', 'LLLLLL..LLLLLLLLLL.LLLLLLLLL.L.LLLLLLL.LLLLLLLLLLLLLLL.LLLLLLLLL.LLLLL...LLL.LLLLLLLLLLLLLLLLL', 'LLLLLLLLLLLLLLLLLL.LLLL.LLLL.LLLLLLLLLL.LLLL..LLLLLLLL.LLLLLLLLLLLLLLL.L.LLLLLL.LLLLLLLLLLLLLL', 'LLLLLLLLLLL.LLLLLLLLLLL.L.LL.LLLLLLLLL.LLLLLL.LLLLLLLL.LLLLLLLLLLLLLLLLLLLLLLLL.LLLLLLLLLLLLLL', 'LLLLLLLLLL..LLLLLL.LLLL.LLLLLLLLLLLLLL.LL.LLL.LL.LLLLL.LLLLLL.LLLLLLLLL.LLLLLLL.LLLLLLL.LLLLLL', 'LLL.LL.LLLLLLLL.LL.LLLL.LLLL.L.LLLLLLLLLLLLLL.LLLLLLLL.L.LLLL.LLLLLLLL.LLLLLLLLLLLLLLLLLLLLLLL', '....LL.....L..L.L..L.....LLL....LL.LL.L............L..LL.....LL..LL..L....L..L.L.L........LL..', 'LLLLLL.LLLL.LLLLLL.LLLLL.LLL.LLLLLLLLL.LLLLLL.LLLLLLLL.LLLLLL.LLLLLLLL.L.LLLLLL.LLLLLLLLLLLLLL', 'LLLLLL.LLLL.LLL.LLLLLLL.LLLLLLLLLLL.LL.LLLLLL.LLL.LLLLLLLLLLL.LLLLLLLL.LLLL.LLLLLLLLLLLLL.LLLL', 'LLLL.LLLLLLLLLLL.L..LLLLLLLLLLLL.LLLLL.LLLLLL.LLLLLLLL.LLLLLL.LLLL.LL..LLLLLLLL.LLLLLLLLLLL.LL', 'LLLLLL.LLLLLLLLLLL.LLLL.LLLL.LLLLLLLL..LLLLL..LLLLLLLLLL.LLL.LLLLLLLLLLLLLLLLLL.LLLLLLLLLLLLLL', 'LLLLLL.LLLL.LLLLLL.LLLLLLLLLLLLLLLL..L.LL.LLL.LLLLLLL.LLLLLLLL.LLLLLLL.LLL.LLLLLLLLLLLLLLLLLLL', 'LLLLLL.LLLL.L.LLLL.LLLLLLL.L.LLLL.LLLLLLL.LL..LLLLLLLL.LLLLLL.LLL.LLLL.LL..LLLL.LLLLLLLLLLL.LL', 'LLLLLL.LLLL.LLLLLL.LLLLLLL.L.L.LLLLL.L.LLLLLLLLLLLLLLLLLLLLLL.LLLLLL.L.LL.LLLLL.LLLL.LLLLLLLLL', '.LLL....L.LLLL..L.LL.......LL.L...LL.L...LL....L..L..L..LLLL....L....L..L...L....L...L.LL.....', 'LLLLLL.LLLL.LLLLLL.LLLLLLLLLLLLL.LLLLL..LLLLL.LLLLLL.LLLLLLLLLL.LLLLLLLLLLLLLLLLLL.LLLLLLLLLLL', 'LLLLL..LLLLLLLLLLL.LLLL.LLLLLLLLLLLLLLLLLLLLL.LLLLLLLL.LLLLLL.LLLLLLLLLLLLL.LLL.LLLLLLLLLLLLLL', '..LL.LLLL.LL.LLLLL.L.LL.LLLL.LLLLLLLLLLLLLLLL.LLLLLLLLLLLLLLL.LLLLLLL..LLLLLLLL.LLLLLLLLL.LL.L', 'LLLLLL..LLL.LLLLLL.LLLLLLLLL.LLLLLLLLL.LLLLLL.LLLL.LLL.LLLLLL.LLLLLLLL.LLLLLLLLLLLLLLLLLLLLLLL', 'LLLLLLLLLLL.LLLLLLLLLLL.LLLLLLLLLLLLLL.LL.LLL.LLLLLLLL.LLLLLL.LLLLLLLL.LLLL.L.LLLLLLLLLLLL.LLL', 'LLLLLLLLLLLL.LL.LL.LLLL.LLLL.L.LL.L.LLLLLLL.L.LLLLLLLL.LLLLLL.LLLL.LLL.LLLLLLLL.LLLLLLLLLLLLLL', '......L...L....L..............L.L....L..L.LL.L..LL....LLL........L..LL.L..L.L.LLL.........L.L.', 'LLLLLL.LLLL.LLLLLL.L.LL.LLLL.LLLL.LLLLLL.LLLL.LLLLLLLL.LLL.LL.LLLLLLLL.LL.LLLLLLLLLLLLLLLLLLLL', 'LL.LLLLLLLLL.LLLLLLLLLL.LLLL.LLLLLLLLL.LLLLLLLLLLLLLLL.LLLL.L.LLLLLLLL.LLLLLLLLLLLLLL.LLLLLL.L', 'LLLLLL.LLLL.LLLLLL.LLLL.LLLL.LLLLLLLLL.L.LLLL.LLLLLLLL.LLLLLLLLLLLLLLL.LLLLLLLL.LLLLLLLLLLLLLL', 'L.LLLLLLLLLLLLLLLL.LLLLL.LLLLLLLL.LLLL.LLLLLL.LLL.LLLL.LLLLLL.LLLLLLLL.LLLLLLLLLLL..LLLL..LLLL', 'LL.LLL.LLLLLLLLLLL.LLLLLLLLL..LLLLLLLL.LLLLLL.LLLL..LL.LLLLLLLLLLLLLLLLLLLLLLLLLLLLLLLLLLLL.LL', 'LLLLLLLLLLLLLLLLLLLLLL..LLLL.LLLLLLLLLLLLLLLLLLLLLLLLL.LLLLLL.LLLLLLLLL.LLLLLLL.LLLLLLLLLLLLLL', 'LLLLLLLLL.L..LLLLLLLLLL.LLLLLLLLLLLLLL.LLLLLL.LLLL.LLLLLLLLLL.LLLLLLLL.LLLLLLLL.LLLLLLLLLLLLLL', 'LLLL.L.LLLL.LLLL.L.L.LLLLLLL.LLLLLLLLLLLL.LLL.LLLLLLLL..LLLLLLLLLLLLLL.LLLLLLLLLLLLLLLLL.LLLLL', 'LLL.LL.LLLL.LLLLLLLLLLL.LLLLLLLLLLLLLL.LLLLLLLLLLLLLLL.LLLLLL.LLLLLLLLLLLLL.LLL.LLLLLLLLLLLLLL', '.L.......L..L...L..LL......L..L..L..L...L.L........LLL......L......LL.....L.L......L.L.LL....L', 'LLLLLLLLLLLLLLLLLL.LLLLLLLLLLLLLLLLLLL.LLLLLL.LLLLLLLL.LLLLLL.LLLLLLLL.LLLLLLLL.LLLLLLL.LLLLLL', 'LLLL.LLLLLLLLLLLLLLLL..LLLLL.LLLLLLLLL..LLLLL.LLLLLLLL.LLLLLLLLLLLLL.L.LLLLLLLLLLLLLLLLLLLLLLL', '.LLLLL.LLLL.LL.LLL.LLLL.LLLL.LLLLLLLLL.LLLL.L.LLLLLLLLLLLLLLLLLLLLLLLL.LLLLLLLLLLLLLLLLLLLLLLL', 'LLLLLL.LLLL.LLLLLLLLLLLL.LLL.LLLLLLLLL.LLLLLL.LLLLLLLL.LLLL...LLLLLLLL.L.LLLLLLLLLLLLLLLLLLLLL', 'LLLLLLLLLLL.LLLLLL.LLLLLLLLL.LLLL.LLLL.LL.LLL.LLLLLLLL.LLLLLL.LLLLLLLLLLLLLLLLL.LLLLLLLL.LLLLL', '......L.LLLL...LLL.L..L......L..L.L.L....L.......LLL....L..LLLL.LLL..LL..L.L.L........LLL.L...', 'LLLLLL.LLLL.LLLLLL.LLLL.LLLL..LLLLLLLL.LLLLLL.LLLLLLLL..LLLLL.LLLLLLLL.LLLLLLLL.LLLLLLLLLLLLLL', 'LLL.LL.LLLL.LLLLLL.LLLLLLLLL.LLLLLLLLL.LLLLLL.LLLLLLLL.LLLLLLLLLLLLLLL.LLLLLLLL.LLLLL.LLLLLLLL', 'LLLLLL.LLLLLLLLLLLLLLLLLLLLL.LLLLLLLLL.LLLLLLLLLLLLLLL.LLLLLL.LLLLLLLL.LLLLLLLL.LLLLLLLLLLLLLL', 'LLLLLL.LLLLLLLLLLLLLLLL.LLLL.LLLLLLLLL.LL.LLLLLLLLLLLLLLLL.LL.LLLLLLLL.LLLLLLLL.LLLLLLLLLLLLLL', 'LLLLLL....L.LLLLLL.LLLL.LLL.LLLLLLLLLL.LLLLLL.LLLLLLLL.LLLLLL.LLLLL..L.LLLLLLLLLLLLLLLLLLLLL.L', 'LLLLLLLL.LL.LLLLLLLLLLLLLL.L.LLLLLLLLL.LLLLLL..LLLLLLL.LLLLLLLL.LLLLLLLLLL.LLLL.LLLLLLLLLLL.LL', 'LLLLLL.LLLLLLLLLLLLLLLL.LLLL.LLLLLLLLLLLLLL...LLLLLL.LLLLLLLL.LLLLLLLL.LLLLLLLLLLLLLLLLLLLLLLL', '.L..L....L.L..L..LL...L.L.LLLLLL...LLL.LL......LLL...L..LLLL.LLLLL.L...LLL...L.LL..L.L...L.L.L', 'LLLLLL.LLL..LLLLLL.LLLL.LLLL.LLLLLLLLL.LLLLLLLLLLLLLLL..LLLLL.LLLLLLLL.LLLLLLLL.LLLLLLLLLLLLLL', 'LLLLLL.LLLL.LLLLLLLLLLL.LLLL.LLLLLLLLLLLLLLL..LLLLLLLL.LLLLLLLL.LLLLLL.LLLLLLLLLLLLLLLLLLLLLLL', 'LLLLLL.LLLL.LLLLLLLLLLL.LLLL.LLLLLLLLL.LLLLLLLLLLLLL.LLLLLLLL.LLLLLLLL.LLLLLLL..LLLLLLLLLLLLLL', 'LLLLLL.LLLL.LLLLLL.LLLLLLLLLLLLLLLLL.L.L.LLLL.LLLLLLLLLLLLLLL.LL.LLLLLLLLLLLLLL..LLLLLLLLLLLLL', 'L.LLLL.LLLL.LLL.LLLLLLLLLLLL.LLLLLLLLL.LLLLL..LLLLLLLL.LLLLLL.LLLLLLLLLLLLLLLLLLLLLLLLLLLLLLLL', 'LLLLL.LLLLL.LLLL.L.LLLL.LLLL.LLLLL.LLL.LLLLLL.LLLLLLLLLLLLLLL.LLLLLLLLLLLLLLLLLLLLLLLLLLLLLLLL', 'LLLLLLLLLLLLLLLLLLLLLLLL.LLLLL.LLLLLLL.LLLLLL.LLLLLLLL.LLLLLL.LLLLLLLLLLLLLLL.LLLLLLLLLLLLLLL.', 'L....L.....L..L......L....L.L...L.L.....L.L...LL......L....LL...L....LL...LL.......LLL...L.L.L', 'LLLLLLLLLLL.LLLLLLLL.LL.LLL..LLLLLLLLL.LLLLLL.LLLLLLLL.LLLLLLLLLLLLLLL.LLL.LLLL.LLLLLLLLLLLLLL', 'LLLLLLLLLLLLLLLLLLLLLLLLLLL..LLLLLLLLL.LLLLLL..LLLLLLL.LLLLLL.L.L.LLLLLLLLL.LLL.LLLLLLLLLLLLLL', 'LLLLLL.LLLL.LLLLLL.LLLL.LL.LLLLLLLLLLL.LLLLLLLL.LLLLLL.LLLLL...LLLLLLLLLLLLLLLL.LLLLLLLLLLLLL.', 'LLLLLL.LLLL.LLLLLL.LL.LLLLLL.LLLLLLLLLLLLLLLLLLLLLLLLL.LLLLLL.LLLLLLLL.LLLLLL.L.LLLLLLLLLLLLLL', 'LLLLLL.LLLL.LLLLLLLLLLL.LLLL.LLLLL.LLLLLLLLLL.LLLLLLLL..LLLLL.LL.LLLLL.LLL.LL.L.LLLLLLLLLLLLLL']\n"
     ]
    }
   ],
   "source": [
    "with open('input', 'r') as file:\n",
    "    input = file.read().split('\\n')\n",
    "\n",
    "print(input)"
   ]
  },
  {
   "cell_type": "code",
   "execution_count": 2,
   "metadata": {},
   "outputs": [],
   "source": [
    "def get_empty_occupied(row, column, full_list):\n",
    "    empty = 0\n",
    "    occupied = 0\n",
    "\n",
    "    for sub_column in range(column-1, column+2):\n",
    "        for sub_row in range(row-1, row+2):\n",
    "            \n",
    "            # Don't if the center seat (the one I'm already checking)\n",
    "            # is empty of occupied\n",
    "            if sub_column == column and sub_row == row: pass\n",
    "            else:\n",
    "                try:\n",
    "                    if sub_column < 0 or sub_row < 0: empty += 1\n",
    "                    elif  full_list[sub_row][sub_column] == 'L' or \\\n",
    "                        full_list[sub_row][sub_column] == '.':\n",
    "                            #print(f\"sub_row = {sub_row}, sub_column = {sub_column}\")\n",
    "                            #print(f\"element = {full_list[sub_row][sub_column]}\") \n",
    "                            empty += 1\n",
    "                    else: occupied += 1\n",
    "                except IndexError:\n",
    "                    empty += 1\n",
    "    \n",
    "    return empty, occupied\n",
    "      "
   ]
  },
  {
   "cell_type": "code",
   "execution_count": 3,
   "metadata": {},
   "outputs": [],
   "source": [
    "\n",
    "def get_final_setup(input):\n",
    "    change = True\n",
    "    new_setup = []\n",
    "    previous_setup = input\n",
    "    empty = 0\n",
    "    occupied = 0\n",
    "\n",
    "    while change == True:\n",
    "\n",
    "        for row, value_row in enumerate(previous_setup):\n",
    "            new_row = \"\"\n",
    "\n",
    "            for column, value_column in enumerate(value_row):\n",
    "                empty, occupied = get_empty_occupied(row, column, previous_setup)\n",
    "                if value_column == 'L':\n",
    "                    if empty == 8: \n",
    "                        new_row += '#'\n",
    "                        change = True\n",
    "                    else: new_row += value_column\n",
    "                elif value_column == '#':\n",
    "                    if occupied >= 4:\n",
    "                        new_row += 'L'\n",
    "                        change = True\n",
    "                    else: new_row += value_column\n",
    "                else: new_row += value_column\n",
    "\n",
    "            new_setup.append(new_row)\n",
    "        \n",
    "        if new_setup == previous_setup: \n",
    "            return new_setup\n",
    "            #change = False\n",
    "        else:\n",
    "            previous_setup = new_setup\n",
    "            new_setup = []\n",
    "    \n"
   ]
  },
  {
   "cell_type": "code",
   "execution_count": 4,
   "metadata": {},
   "outputs": [],
   "source": [
    "def count_occupied(final_setup):\n",
    "    occupied = 0\n",
    "\n",
    "    for line in final_setup:\n",
    "        for sub_line in line:\n",
    "            if sub_line == '#': occupied += 1\n",
    "    \n",
    "    return occupied\n"
   ]
  },
  {
   "source": [
    "## Part 1"
   ],
   "cell_type": "markdown",
   "metadata": {}
  },
  {
   "cell_type": "code",
   "execution_count": 11,
   "metadata": {},
   "outputs": [
    {
     "output_type": "stream",
     "name": "stdout",
     "text": [
      "result for part 1\n",
      "2178\n"
     ]
    }
   ],
   "source": [
    "with open('input', 'r') as file:\n",
    "    input = file.read().split('\\n')\n",
    "\n",
    "print('result for part 1')\n",
    "print(count_occupied(get_final_setup(input)))"
   ]
  },
  {
   "source": [
    "## Part 2\n",
    "\n",
    "* it now takes five or more visible occupied seats for an occupied seat to become empty (rather than four or more from the previous rules). \n",
    "* empty seats that see no occupied seats become occupied, \n",
    "* seats matching no rule don't change, and floor never changes."
   ],
   "cell_type": "markdown",
   "metadata": {}
  },
  {
   "cell_type": "code",
   "execution_count": 6,
   "metadata": {},
   "outputs": [],
   "source": [
    "def get_empty_occupied_2(given_row, given_column, full_list):\n",
    "    empty = 0\n",
    "    occupied = 0\n",
    "\n",
    "    # offset for (row, column)\n",
    "    offsets = [  (-1,-1), (-1, 0), (-1, 1),\n",
    "                (0, -1), (0, 0),  (0, 1),\n",
    "                (1, -1), (1, 0),  (1, 1)]\n",
    "\n",
    "    for offset in offsets:\n",
    "        row = given_row + offset[0]\n",
    "        column = given_column + offset[1]\n",
    "        #print(f\"row = {row}\")\n",
    "        #print(f\"column = {column}\")\n",
    "        #print(\"\")\n",
    "        \n",
    "        if row == given_row and column == given_column: pass\n",
    "        elif row < 0 or column < 0:\n",
    "            empty += 1\n",
    "        else:\n",
    "            try:\n",
    "                while full_list[row][column] == '.':\n",
    "                    row += offset[0]\n",
    "                    column += offset[1]\n",
    "\n",
    "                if row < 0 or column < 0:\n",
    "                    empty += 1\n",
    "                elif full_list[row][column] == 'L': \n",
    "                    empty += 1\n",
    "                    #print(f\"empty in {row} {column}\")\n",
    "                elif full_list[row][column] == '#': \n",
    "                    occupied += 1\n",
    "                    #print(f\"occupied in {row} {column}\")\n",
    "            except IndexError:\n",
    "                empty += 1\n",
    "                #print('index error')\n",
    "\n",
    "\n",
    "    return empty, occupied\n"
   ]
  },
  {
   "cell_type": "code",
   "execution_count": 8,
   "metadata": {},
   "outputs": [],
   "source": [
    "\n",
    "def get_final_setup_2(input):\n",
    "    change = True\n",
    "    new_setup = []\n",
    "    previous_setup = input\n",
    "    empty = 0\n",
    "    occupied = 0\n",
    "\n",
    "    while change == True:\n",
    "\n",
    "        for row, value_row in enumerate(previous_setup):\n",
    "            new_row = \"\"\n",
    "\n",
    "            for column, value_column in enumerate(value_row):\n",
    "                empty, occupied = get_empty_occupied_2(row, column, previous_setup)\n",
    "                if value_column == 'L':\n",
    "                    if empty == 8: \n",
    "                        new_row += '#'\n",
    "                        change = True\n",
    "                    else: new_row += value_column\n",
    "                elif value_column == '#':\n",
    "                    if occupied >= 5:\n",
    "                        new_row += 'L'\n",
    "                        change = True\n",
    "                    else: new_row += value_column\n",
    "                else: new_row += value_column\n",
    "\n",
    "            new_setup.append(new_row)\n",
    "        \n",
    "        if new_setup == previous_setup: \n",
    "            return new_setup\n",
    "        else:\n",
    "            previous_setup = new_setup\n",
    "            new_setup = []\n",
    "    \n"
   ]
  },
  {
   "cell_type": "code",
   "execution_count": 10,
   "metadata": {},
   "outputs": [
    {
     "output_type": "stream",
     "name": "stdout",
     "text": [
      "result for part 2\n",
      "1978\n"
     ]
    }
   ],
   "source": [
    "with open('input', 'r') as file:\n",
    "    input = file.read().split('\\n')\n",
    "\n",
    "print(\"result for part 2\")\n",
    "print(count_occupied(get_final_setup_2(input)))"
   ]
  },
  {
   "cell_type": "code",
   "execution_count": null,
   "metadata": {},
   "outputs": [],
   "source": []
  }
 ]
}