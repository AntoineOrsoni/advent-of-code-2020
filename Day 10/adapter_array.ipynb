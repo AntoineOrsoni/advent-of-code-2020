{
 "metadata": {
  "language_info": {
   "codemirror_mode": {
    "name": "ipython",
    "version": 3
   },
   "file_extension": ".py",
   "mimetype": "text/x-python",
   "name": "python",
   "nbconvert_exporter": "python",
   "pygments_lexer": "ipython3",
   "version": "3.7.9-final"
  },
  "orig_nbformat": 2,
  "kernelspec": {
   "name": "python3",
   "display_name": "Python 3",
   "language": "python"
  }
 },
 "nbformat": 4,
 "nbformat_minor": 2,
 "cells": [
  {
   "cell_type": "code",
   "execution_count": 59,
   "metadata": {},
   "outputs": [],
   "source": [
    "with open('input', 'r') as file:\n",
    "    input = [int(line) for line in file.read().split('\\n')]"
   ]
  },
  {
   "cell_type": "code",
   "execution_count": 60,
   "metadata": {},
   "outputs": [
    {
     "output_type": "stream",
     "name": "stdout",
     "text": [
      "[17, 110, 146, 144, 70, 57, 124, 121, 134, 12, 135, 120, 19, 92, 6, 103, 46, 56, 93, 65, 14, 31, 63, 41, 131, 60, 73, 83, 71, 37, 85, 79, 13, 7, 109, 24, 94, 2, 30, 3, 27, 77, 91, 106, 123, 128, 35, 26, 112, 55, 97, 21, 100, 88, 113, 117, 25, 82, 129, 66, 11, 116, 64, 78, 38, 99, 130, 84, 98, 72, 50, 36, 54, 8, 34, 20, 127, 1, 137, 143, 76, 69, 111, 136, 53, 43, 140, 145, 49, 122, 18, 42, 0, 149]\n[0, 1, 2, 3, 6, 7, 8, 11, 12, 13, 14, 17, 18, 19, 20, 21, 24, 25, 26, 27, 30, 31, 34, 35, 36, 37, 38, 41, 42, 43, 46, 49, 50, 53, 54, 55, 56, 57, 60, 63, 64, 65, 66, 69, 70, 71, 72, 73, 76, 77, 78, 79, 82, 83, 84, 85, 88, 91, 92, 93, 94, 97, 98, 99, 100, 103, 106, 109, 110, 111, 112, 113, 116, 117, 120, 121, 122, 123, 124, 127, 128, 129, 130, 131, 134, 135, 136, 137, 140, 143, 144, 145, 146, 149]\n"
     ]
    }
   ],
   "source": [
    "# Adding the initial value charing_outlet\n",
    "input.append(0)\n",
    "# Adding the initial value device built-in voltage\n",
    "input.append(max(input)+3)\n",
    "\n",
    "input_sorted = sorted(input)\n",
    "print(input)\n",
    "print(input_sorted)"
   ]
  },
  {
   "cell_type": "code",
   "execution_count": 61,
   "metadata": {},
   "outputs": [],
   "source": [
    "def get_jolts(input_sorted):\n",
    "    jolt_1 = 0\n",
    "    jolt_2 = 0\n",
    "    jolt_3 = 0\n",
    "\n",
    "    for index, value in enumerate(input_sorted[:-1]):\n",
    "        if input_sorted[index + 1] - value == 1: jolt_1 += 1\n",
    "        elif input_sorted[index + 1] - value == 2: jolt_2 += 1\n",
    "        elif input_sorted[index + 1] - value == 3: jolt_3 += 1\n",
    "        else: print(f\"wrong offeset for index = {index}, value = {value}\")\n",
    "\n",
    "    return (jolt_1, jolt_2, jolt_3)"
   ]
  },
  {
   "cell_type": "code",
   "execution_count": 62,
   "metadata": {},
   "outputs": [
    {
     "output_type": "stream",
     "name": "stdout",
     "text": [
      "65\n0\n28\nresult for part 1:\n1820\n"
     ]
    }
   ],
   "source": [
    "jolt_1, jolt_2, jolt_3 = get_jolts(input_sorted)\n",
    "print(jolt_1)\n",
    "print(jolt_2)\n",
    "print(jolt_3)\n",
    "\n",
    "print('result for part 1:')\n",
    "print((jolt_1) * (jolt_3))"
   ]
  },
  {
   "cell_type": "code",
   "execution_count": 63,
   "metadata": {},
   "outputs": [],
   "source": [
    "# Return a list with the number of jolt_1 in a row\n",
    "def get_jolt_1_in_row(input_sorted):\n",
    "\n",
    "    consecutive_ones = 0\n",
    "    list_jolt_1_in_row = []\n",
    "\n",
    "    for index, value in enumerate(input_sorted[:-1]):\n",
    "\n",
    "        if input_sorted[index + 1] - value == 1:\n",
    "            consecutive_ones += 1\n",
    "            #print(f\"current index = {index}, current value = {value}\")\n",
    "            #print(f\"next index = {index+1}, next value = {input_sorted[index+1]}\")\n",
    "            #print('')\n",
    "        # if I have 2 jolt_3 in a row, avoid appending a 0 to the list\n",
    "        elif consecutive_ones == 0:\n",
    "            pass\n",
    "        elif input_sorted[index + 1] - value == 3:\n",
    "            #print(f\"consecutive_ones = {consecutive_ones}\")\n",
    "            #print(\"-----------\")\n",
    "            list_jolt_1_in_row.append(consecutive_ones)\n",
    "            consecutive_ones = 0\n",
    "\n",
    "    return list_jolt_1_in_row\n"
   ]
  },
  {
   "cell_type": "code",
   "execution_count": 64,
   "metadata": {},
   "outputs": [
    {
     "output_type": "stream",
     "name": "stdout",
     "text": [
      "[0, 1, 2, 3, 6, 7, 8, 11, 12, 13, 14, 17, 18, 19, 20, 21, 24, 25, 26, 27, 30, 31, 34, 35, 36, 37, 38, 41, 42, 43, 46, 49, 50, 53, 54, 55, 56, 57, 60, 63, 64, 65, 66, 69, 70, 71, 72, 73, 76, 77, 78, 79, 82, 83, 84, 85, 88, 91, 92, 93, 94, 97, 98, 99, 100, 103, 106, 109, 110, 111, 112, 113, 116, 117, 120, 121, 122, 123, 124, 127, 128, 129, 130, 131, 134, 135, 136, 137, 140, 143, 144, 145, 146, 149]\n"
     ]
    },
    {
     "output_type": "execute_result",
     "data": {
      "text/plain": [
       "[3, 2, 3, 4, 3, 1, 4, 2, 1, 4, 3, 4, 3, 3, 3, 3, 4, 1, 4, 4, 3, 3]"
      ]
     },
     "metadata": {},
     "execution_count": 64
    }
   ],
   "source": [
    "print(input_sorted)\n",
    "get_jolt_1_in_row(input_sorted)"
   ]
  },
  {
   "cell_type": "code",
   "execution_count": 65,
   "metadata": {},
   "outputs": [],
   "source": [
    "def get_number_combinations(input_sorted):\n",
    "\n",
    "    number_combinations = 1\n",
    "\n",
    "    list_jolt_1_in_row = [value - 1 for value in get_jolt_1_in_row(input_sorted)]\n",
    "\n",
    "    # # Removing all the 0\n",
    "    # while 0 in list_jolt_1_in_row:\n",
    "    #     list_jolt_1_in_row.remove(0)\n",
    "    \n",
    "    print(list_jolt_1_in_row)\n",
    "    for value in list_jolt_1_in_row:\n",
    "        # if I have 2 jolt_1 or less between the first and last index or this sub_list; these two have a jolt_3 or less between them.\n",
    "        # I can count this combination as well\n",
    "        if value <= 2:\n",
    "            number_combinations *= pow(2, value)\n",
    "            print(f\"2^{value} = {pow(2, value)} *\")\n",
    "        # else, these two doesn't have a jolt_3 between them. I have to remove this combination (where I remove all values between first and last index)\n",
    "        # of the sub_list\n",
    "        else:\n",
    "            number_combinations *= pow(2, value) - 1\n",
    "            print(f\"2^{value} = {pow(2, value) -1 } *\")\n",
    "\n",
    "    return number_combinations"
   ]
  },
  {
   "cell_type": "code",
   "execution_count": 66,
   "metadata": {},
   "outputs": [
    {
     "output_type": "stream",
     "name": "stdout",
     "text": [
      "[2, 1, 2, 3, 2, 0, 3, 1, 0, 3, 2, 3, 2, 2, 2, 2, 3, 0, 3, 3, 2, 2]\n2^2 = 4 *\n2^1 = 2 *\n2^2 = 4 *\n2^3 = 7 *\n2^2 = 4 *\n2^0 = 1 *\n2^3 = 7 *\n2^1 = 2 *\n2^0 = 1 *\n2^3 = 7 *\n2^2 = 4 *\n2^3 = 7 *\n2^2 = 4 *\n2^2 = 4 *\n2^2 = 4 *\n2^2 = 4 *\n2^3 = 7 *\n2^0 = 1 *\n2^3 = 7 *\n2^3 = 7 *\n2^2 = 4 *\n2^2 = 4 *\n"
     ]
    },
    {
     "output_type": "execute_result",
     "data": {
      "text/plain": [
       "3454189699072"
      ]
     },
     "metadata": {},
     "execution_count": 66
    }
   ],
   "source": [
    "get_number_combinations(input_sorted)"
   ]
  },
  {
   "cell_type": "code",
   "execution_count": null,
   "metadata": {},
   "outputs": [],
   "source": []
  }
 ]
}